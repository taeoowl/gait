{
 "cells": [
  {
   "cell_type": "markdown",
   "id": "9df66cc3",
   "metadata": {},
   "source": [
    "# Salted"
   ]
  },
  {
   "cell_type": "code",
   "execution_count": 28,
   "id": "65c1e714",
   "metadata": {},
   "outputs": [],
   "source": [
    "import pandas as pd\n",
    "import numpy as np\n",
    "import matplotlib.pyplot as plt\n",
    "\n",
    "import scipy\n",
    "from scipy.ndimage import gaussian_filter1d\n",
    "from sklearn.preprocessing import MinMaxScaler, StandardScaler\n",
    "\n",
    "import torch\n",
    "from torch.utils.data import Dataset, DataLoader, random_split\n",
    "\n",
    "import os \n",
    "import glob\n",
    "import cv2\n",
    "import itertools"
   ]
  },
  {
   "cell_type": "code",
   "execution_count": 311,
   "id": "72063f60",
   "metadata": {},
   "outputs": [],
   "source": [
    "class Gait_Dataset_Salted(Dataset):\n",
    "    def __init__(self, file_path):\n",
    "        self.file_path = file_path\n",
    "        self.inputs_acc, self.inputs_gyr, self.stride_length = get_sensor_salted(file_path)\n",
    "#         self.inputs_spd = get_speed_salted(file_path)\n",
    "        self.inputs_pst = get_position_salted(file_path, distance=True)\n",
    "        \n",
    "    def __len__(self) :\n",
    "        return len(self.inputs_acc)\n",
    "    \n",
    "    def __getitem__(self, idx):\n",
    "        return self.inputs_acc[idx], self.inputs_gyr[idx], self.stride_length[idx], self.inputs_pst[idx]"
   ]
  },
  {
   "cell_type": "code",
   "execution_count": 303,
   "id": "b72c79f4",
   "metadata": {},
   "outputs": [],
   "source": [
    "def get_event_salted(file_path):\n",
    "    \n",
    "    df = pd.read_csv(file_path, skiprows=2)\n",
    "    \n",
    "    # 압력값 불러오기\n",
    "    prs = df.filter(regex=\"R_value\")\n",
    "    prs_mean = np.mean(prs.iloc[:, 0:4], axis=1) \n",
    "    \n",
    "    # Gaussian Filter : Smoothing pressure data\n",
    "    prs_mean_gf = pd.Series(scipy.ndimage.gaussian_filter1d(prs_mean, 2))\n",
    "    \n",
    "    # Level Shift \n",
    "    lev_idx = prs_mean_gf > 2 # 가우시안 필터로 인해 0이 아닌 값으로 threshold 설정\n",
    "    prs_lev = lev_idx.map(lambda x : 1 if x else 0)\n",
    "    \n",
    "    # HS, TO Index 추출\n",
    "    event_idx = []\n",
    "    for i in range(len(prs_lev)-1):\n",
    "        if (prs_lev[i] - prs_lev[i+1]) != 0:\n",
    "            event_idx.append(i)\n",
    "            \n",
    "    # HS 이벤트가 먼저 시작하도록 : 나중에 lev shift를 통해 구하는 방법으로 변경하는 것도 괜찮을 듯\n",
    "    if np.diff(event_idx)[0] < np.diff(event_idx)[1]: # Swing Phase가 Stand Phase보다 길다는 것을 가정 : 장애 데이터에서도 확인 필요\n",
    "        del event_idx[0]\n",
    "    \n",
    "    \n",
    "    return event_idx\n",
    "\n",
    "def get_sensor_salted(file_path, normalization=True):\n",
    "    inputs_acc = []\n",
    "    inputs_gyr = []\n",
    "    stride_length = []\n",
    "    for file_name in glob.glob(file_path):\n",
    "        df = pd.read_csv(file_name, skiprows=2)\n",
    "        acc = df.filter(regex=\"R_ACC\")\n",
    "        gyr = df.filter(regex=\"R_GYRO\")\n",
    "        event_idx = get_event_salted(file_name)\n",
    "\n",
    "        # HS 이벤트 추출\n",
    "        event_hs = event_idx[0::2]\n",
    "\n",
    "        # m/s^2 단위 변환\n",
    "        acc = (acc / 1000) * 9.8066\n",
    "    #     acc_z = acc_z - np.mean(acc_z) # z축(상하)에 적용되는 중력가속도 제거 : 추가확인 필요\n",
    "\n",
    "        # Normalization\n",
    "        if normalization == True:\n",
    "            scaler = MinMaxScaler()\n",
    "            acc_norm = scaler.fit_transform(acc)\n",
    "            gyr_norm = scaler.fit_transform(gyr)\n",
    "\n",
    "        # 가속도와 자이로 센서 값\n",
    "        for i in range(1, len(event_hs)):\n",
    "            if normalization == True:\n",
    "                inputs_acc.append(np.transpose(cv2.resize(acc_norm[event_hs[i-1]:event_hs[i]], dsize=(3, 300))))\n",
    "                inputs_gyr.append(np.transpose(cv2.resize(gyr_norm[event_hs[i-1]:event_hs[i]], dsize=(3, 300))))\n",
    "            else:\n",
    "                inputs_acc.append(np.transpose(acc[event_hs[i-1]:event_hs[i]]))\n",
    "                inputs_gyr.append(np.transpose(gyr[event_hs[i-1]:event_hs[i]]))\n",
    "\n",
    "            #             inputs_gyr.append(acc_norm[event_hs[i-1]:event_hs[i]])\n",
    "    \n",
    "        if '3km' in file_name:\n",
    "            stride_length.append(np.diff(event_hs) * (3000/3600))\n",
    "        elif '4km' in file_name:\n",
    "            stride_length.append(np.diff(event_hs) * (4000/3600))\n",
    "        else:\n",
    "            stride_length.append(np.diff(event_hs) * (5000/3600))\n",
    "            \n",
    "    stride_length = np.round(np.array(list(itertools.chain.from_iterable(stride_length))), 3)\n",
    "    \n",
    "    return inputs_acc, inputs_gyr, stride_length\n",
    "\n",
    "\n",
    "def get_speed_salted(file_path):\n",
    "    inputs_acc, _, _ = get_sensor_salted(file_path, normalization=False)\n",
    "    inputs_spd = []\n",
    "    for i in range(len(inputs_acc)):\n",
    "        spd = pd.DataFrame(scipy.integrate.cumulative_trapezoid(inputs_acc[i], dx=(1/100)))\n",
    "        inputs_spd.append(spd) #m/s\n",
    "    return inputs_spd\n",
    "\n",
    "def get_position_salted(file_path, distance=False):\n",
    "    inputs_spd = get_speed_salted(file_path)\n",
    "    inputs_pst = []\n",
    "    for i in range(len(inputs_spd)):\n",
    "        pst = pd.DataFrame(scipy.integrate.cumulative_trapezoid(inputs_spd[i], dx=(1/100)))\n",
    "        if distance==True:\n",
    "            pst = np.sum(pst, axis=1)\n",
    "        inputs_pst.append(pst)\n",
    "    return inputs_pst\n"
   ]
  },
  {
   "cell_type": "code",
   "execution_count": 304,
   "id": "e8d0f4a2",
   "metadata": {},
   "outputs": [],
   "source": [
    "inputs_pst = get_position_salted(file_path, distance=True)"
   ]
  },
  {
   "cell_type": "code",
   "execution_count": 310,
   "id": "5e45cac5",
   "metadata": {},
   "outputs": [
    {
     "data": {
      "text/plain": [
       "0    -55.314985\n",
       "1      9.151653\n",
       "2   -403.955487\n",
       "dtype: float64"
      ]
     },
     "execution_count": 310,
     "metadata": {},
     "output_type": "execute_result"
    }
   ],
   "source": [
    "inputs_pst[100]"
   ]
  },
  {
   "cell_type": "code",
   "execution_count": 286,
   "id": "c90970d2",
   "metadata": {
    "scrolled": true
   },
   "outputs": [],
   "source": [
    "inputs_acc, _, _ = get_sensor_salted(file_path, normalization=False)\n",
    "inputs_spd = []\n",
    "for i in range(len(inputs_acc)):\n",
    "    spd = pd.DataFrame(scipy.integrate.cumulative_trapezoid(inputs_acc[i], dx=(1/100)))\n",
    "    inputs_spd.append(spd)    "
   ]
  },
  {
   "cell_type": "code",
   "execution_count": 287,
   "id": "c9d5891a",
   "metadata": {},
   "outputs": [
    {
     "data": {
      "text/html": [
       "<div>\n",
       "<style scoped>\n",
       "    .dataframe tbody tr th:only-of-type {\n",
       "        vertical-align: middle;\n",
       "    }\n",
       "\n",
       "    .dataframe tbody tr th {\n",
       "        vertical-align: top;\n",
       "    }\n",
       "\n",
       "    .dataframe thead th {\n",
       "        text-align: right;\n",
       "    }\n",
       "</style>\n",
       "<table border=\"1\" class=\"dataframe\">\n",
       "  <thead>\n",
       "    <tr style=\"text-align: right;\">\n",
       "      <th></th>\n",
       "      <th>0</th>\n",
       "      <th>1</th>\n",
       "      <th>2</th>\n",
       "      <th>3</th>\n",
       "      <th>4</th>\n",
       "      <th>5</th>\n",
       "      <th>6</th>\n",
       "      <th>7</th>\n",
       "      <th>8</th>\n",
       "      <th>9</th>\n",
       "      <th>...</th>\n",
       "      <th>120</th>\n",
       "      <th>121</th>\n",
       "      <th>122</th>\n",
       "      <th>123</th>\n",
       "      <th>124</th>\n",
       "      <th>125</th>\n",
       "      <th>126</th>\n",
       "      <th>127</th>\n",
       "      <th>128</th>\n",
       "      <th>129</th>\n",
       "    </tr>\n",
       "  </thead>\n",
       "  <tbody>\n",
       "    <tr>\n",
       "      <th>0</th>\n",
       "      <td>-0.017799</td>\n",
       "      <td>-0.027753</td>\n",
       "      <td>-0.043737</td>\n",
       "      <td>-0.071588</td>\n",
       "      <td>-0.094143</td>\n",
       "      <td>-0.110717</td>\n",
       "      <td>-0.132438</td>\n",
       "      <td>-0.156366</td>\n",
       "      <td>-0.180785</td>\n",
       "      <td>-0.204909</td>\n",
       "      <td>...</td>\n",
       "      <td>-2.791253</td>\n",
       "      <td>-2.835971</td>\n",
       "      <td>-2.869117</td>\n",
       "      <td>-2.887553</td>\n",
       "      <td>-2.892653</td>\n",
       "      <td>-2.888387</td>\n",
       "      <td>-2.880591</td>\n",
       "      <td>-2.875344</td>\n",
       "      <td>-2.870735</td>\n",
       "      <td>-2.856761</td>\n",
       "    </tr>\n",
       "    <tr>\n",
       "      <th>1</th>\n",
       "      <td>0.226925</td>\n",
       "      <td>0.374122</td>\n",
       "      <td>0.394323</td>\n",
       "      <td>0.361275</td>\n",
       "      <td>0.332002</td>\n",
       "      <td>0.323373</td>\n",
       "      <td>0.324157</td>\n",
       "      <td>0.326266</td>\n",
       "      <td>0.326756</td>\n",
       "      <td>0.324206</td>\n",
       "      <td>...</td>\n",
       "      <td>0.183089</td>\n",
       "      <td>0.295081</td>\n",
       "      <td>0.425557</td>\n",
       "      <td>0.576432</td>\n",
       "      <td>0.748538</td>\n",
       "      <td>0.940110</td>\n",
       "      <td>1.148941</td>\n",
       "      <td>1.371551</td>\n",
       "      <td>1.607351</td>\n",
       "      <td>1.850849</td>\n",
       "    </tr>\n",
       "    <tr>\n",
       "      <th>2</th>\n",
       "      <td>-0.106205</td>\n",
       "      <td>-0.217461</td>\n",
       "      <td>-0.314400</td>\n",
       "      <td>-0.408298</td>\n",
       "      <td>-0.515288</td>\n",
       "      <td>-0.624386</td>\n",
       "      <td>-0.742752</td>\n",
       "      <td>-0.864599</td>\n",
       "      <td>-0.984779</td>\n",
       "      <td>-1.111627</td>\n",
       "      <td>...</td>\n",
       "      <td>-13.565960</td>\n",
       "      <td>-13.778126</td>\n",
       "      <td>-13.971855</td>\n",
       "      <td>-14.142588</td>\n",
       "      <td>-14.291158</td>\n",
       "      <td>-14.418448</td>\n",
       "      <td>-14.525830</td>\n",
       "      <td>-14.620954</td>\n",
       "      <td>-14.720050</td>\n",
       "      <td>-14.816056</td>\n",
       "    </tr>\n",
       "  </tbody>\n",
       "</table>\n",
       "<p>3 rows × 130 columns</p>\n",
       "</div>"
      ],
      "text/plain": [
       "        0         1         2         3         4         5         6    \\\n",
       "0 -0.017799 -0.027753 -0.043737 -0.071588 -0.094143 -0.110717 -0.132438   \n",
       "1  0.226925  0.374122  0.394323  0.361275  0.332002  0.323373  0.324157   \n",
       "2 -0.106205 -0.217461 -0.314400 -0.408298 -0.515288 -0.624386 -0.742752   \n",
       "\n",
       "        7         8         9    ...        120        121        122  \\\n",
       "0 -0.156366 -0.180785 -0.204909  ...  -2.791253  -2.835971  -2.869117   \n",
       "1  0.326266  0.326756  0.324206  ...   0.183089   0.295081   0.425557   \n",
       "2 -0.864599 -0.984779 -1.111627  ... -13.565960 -13.778126 -13.971855   \n",
       "\n",
       "         123        124        125        126        127        128        129  \n",
       "0  -2.887553  -2.892653  -2.888387  -2.880591  -2.875344  -2.870735  -2.856761  \n",
       "1   0.576432   0.748538   0.940110   1.148941   1.371551   1.607351   1.850849  \n",
       "2 -14.142588 -14.291158 -14.418448 -14.525830 -14.620954 -14.720050 -14.816056  \n",
       "\n",
       "[3 rows x 130 columns]"
      ]
     },
     "execution_count": 287,
     "metadata": {},
     "output_type": "execute_result"
    }
   ],
   "source": [
    "inputs_spd[0]"
   ]
  },
  {
   "cell_type": "code",
   "execution_count": null,
   "id": "de16496a",
   "metadata": {},
   "outputs": [],
   "source": [
    "result_trapz = scipy.integrate.trapz(y[t0:t1+1], dx=0.2E-6)"
   ]
  },
  {
   "cell_type": "code",
   "execution_count": 282,
   "id": "d5391f42",
   "metadata": {},
   "outputs": [
    {
     "data": {
      "text/plain": [
       "array([ -2.85676065,   1.85084865, -14.81605645])"
      ]
     },
     "execution_count": 282,
     "metadata": {},
     "output_type": "execute_result"
    }
   ],
   "source": [
    "scipy.integrate.trapz(inputs_acc[0], dx=(1/100))"
   ]
  },
  {
   "cell_type": "code",
   "execution_count": 279,
   "id": "9bc8a43d",
   "metadata": {},
   "outputs": [
    {
     "data": {
      "text/html": [
       "<div>\n",
       "<style scoped>\n",
       "    .dataframe tbody tr th:only-of-type {\n",
       "        vertical-align: middle;\n",
       "    }\n",
       "\n",
       "    .dataframe tbody tr th {\n",
       "        vertical-align: top;\n",
       "    }\n",
       "\n",
       "    .dataframe thead th {\n",
       "        text-align: right;\n",
       "    }\n",
       "</style>\n",
       "<table border=\"1\" class=\"dataframe\">\n",
       "  <thead>\n",
       "    <tr style=\"text-align: right;\">\n",
       "      <th></th>\n",
       "      <th>R_ACC_X</th>\n",
       "      <th>R_ACC_Y</th>\n",
       "      <th>R_ACC_Z</th>\n",
       "    </tr>\n",
       "  </thead>\n",
       "  <tbody>\n",
       "    <tr>\n",
       "      <th>0</th>\n",
       "      <td>-2.226098</td>\n",
       "      <td>22.555180</td>\n",
       "      <td>-10.306737</td>\n",
       "    </tr>\n",
       "    <tr>\n",
       "      <th>1</th>\n",
       "      <td>-1.333698</td>\n",
       "      <td>22.829765</td>\n",
       "      <td>-10.934359</td>\n",
       "    </tr>\n",
       "    <tr>\n",
       "      <th>2</th>\n",
       "      <td>-0.657042</td>\n",
       "      <td>6.609648</td>\n",
       "      <td>-11.316816</td>\n",
       "    </tr>\n",
       "    <tr>\n",
       "      <th>3</th>\n",
       "      <td>-2.539909</td>\n",
       "      <td>-2.569329</td>\n",
       "      <td>-8.070832</td>\n",
       "    </tr>\n",
       "    <tr>\n",
       "      <th>4</th>\n",
       "      <td>-3.030239</td>\n",
       "      <td>-4.040319</td>\n",
       "      <td>-10.708807</td>\n",
       "    </tr>\n",
       "    <tr>\n",
       "      <th>...</th>\n",
       "      <td>...</td>\n",
       "      <td>...</td>\n",
       "      <td>...</td>\n",
       "    </tr>\n",
       "    <tr>\n",
       "      <th>126</th>\n",
       "      <td>0.764915</td>\n",
       "      <td>20.074110</td>\n",
       "      <td>-11.679661</td>\n",
       "    </tr>\n",
       "    <tr>\n",
       "      <th>127</th>\n",
       "      <td>0.794335</td>\n",
       "      <td>21.692199</td>\n",
       "      <td>-9.796793</td>\n",
       "    </tr>\n",
       "    <tr>\n",
       "      <th>128</th>\n",
       "      <td>0.254972</td>\n",
       "      <td>22.829765</td>\n",
       "      <td>-9.228011</td>\n",
       "    </tr>\n",
       "    <tr>\n",
       "      <th>129</th>\n",
       "      <td>0.666849</td>\n",
       "      <td>24.330175</td>\n",
       "      <td>-10.591128</td>\n",
       "    </tr>\n",
       "    <tr>\n",
       "      <th>130</th>\n",
       "      <td>2.128032</td>\n",
       "      <td>24.369401</td>\n",
       "      <td>-8.610195</td>\n",
       "    </tr>\n",
       "  </tbody>\n",
       "</table>\n",
       "<p>131 rows × 3 columns</p>\n",
       "</div>"
      ],
      "text/plain": [
       "      R_ACC_X    R_ACC_Y    R_ACC_Z\n",
       "0   -2.226098  22.555180 -10.306737\n",
       "1   -1.333698  22.829765 -10.934359\n",
       "2   -0.657042   6.609648 -11.316816\n",
       "3   -2.539909  -2.569329  -8.070832\n",
       "4   -3.030239  -4.040319 -10.708807\n",
       "..        ...        ...        ...\n",
       "126  0.764915  20.074110 -11.679661\n",
       "127  0.794335  21.692199  -9.796793\n",
       "128  0.254972  22.829765  -9.228011\n",
       "129  0.666849  24.330175 -10.591128\n",
       "130  2.128032  24.369401  -8.610195\n",
       "\n",
       "[131 rows x 3 columns]"
      ]
     },
     "execution_count": 279,
     "metadata": {},
     "output_type": "execute_result"
    }
   ],
   "source": [
    "stride_ex"
   ]
  },
  {
   "cell_type": "code",
   "execution_count": 292,
   "id": "9e2e4157",
   "metadata": {},
   "outputs": [
    {
     "data": {
      "text/plain": [
       "0   -178.048581\n",
       "1     37.640182\n",
       "2   -927.297190\n",
       "dtype: float64"
      ]
     },
     "execution_count": 292,
     "metadata": {},
     "output_type": "execute_result"
    }
   ],
   "source": [
    "np.sum(pd.DataFrame(scipy.integrate.cumulative_trapezoid(inputs_acc[0], dx=(1/100))), axis=1)"
   ]
  },
  {
   "cell_type": "code",
   "execution_count": 272,
   "id": "446eb956",
   "metadata": {},
   "outputs": [
    {
     "data": {
      "text/plain": [
       "0     -2.226098\n",
       "1     -1.333698\n",
       "2     -0.657042\n",
       "3     -2.539909\n",
       "4     -3.030239\n",
       "         ...   \n",
       "126    0.764915\n",
       "127    0.794335\n",
       "128    0.254972\n",
       "129    0.666849\n",
       "130    2.128032\n",
       "Name: R_ACC_X, Length: 131, dtype: float64"
      ]
     },
     "execution_count": 272,
     "metadata": {},
     "output_type": "execute_result"
    }
   ],
   "source": [
    "stride_ex['R_ACC_X']"
   ]
  },
  {
   "cell_type": "code",
   "execution_count": null,
   "id": "a7b8a3aa",
   "metadata": {},
   "outputs": [],
   "source": [
    "scipy.integrate.trapz(y[t0:t1+1], dx=(1/100))"
   ]
  },
  {
   "cell_type": "code",
   "execution_count": 264,
   "id": "6be0d9fa",
   "metadata": {},
   "outputs": [
    {
     "data": {
      "text/plain": [
       "list"
      ]
     },
     "execution_count": 264,
     "metadata": {},
     "output_type": "execute_result"
    }
   ],
   "source": [
    "len(inputs_spd)"
   ]
  },
  {
   "cell_type": "code",
   "execution_count": 261,
   "id": "77a9980e",
   "metadata": {},
   "outputs": [],
   "source": [
    "##################\n",
    "speed = pd.DataFrame()\n",
    "itg = 0\n",
    "for i in range(len(stride_ex)-1):\n",
    "    trz = itg + 0.5*(stride_ex.iloc[i] + stride_ex.iloc[i+1])*(1/100)    \n",
    "    itg =+ trz\n",
    "    speed = pd.concat([speed, itg], axis=1)"
   ]
  },
  {
   "cell_type": "code",
   "execution_count": 262,
   "id": "8c655b49",
   "metadata": {},
   "outputs": [
    {
     "data": {
      "text/html": [
       "<div>\n",
       "<style scoped>\n",
       "    .dataframe tbody tr th:only-of-type {\n",
       "        vertical-align: middle;\n",
       "    }\n",
       "\n",
       "    .dataframe tbody tr th {\n",
       "        vertical-align: top;\n",
       "    }\n",
       "\n",
       "    .dataframe thead th {\n",
       "        text-align: right;\n",
       "    }\n",
       "</style>\n",
       "<table border=\"1\" class=\"dataframe\">\n",
       "  <thead>\n",
       "    <tr style=\"text-align: right;\">\n",
       "      <th></th>\n",
       "      <th>0</th>\n",
       "      <th>0</th>\n",
       "      <th>0</th>\n",
       "      <th>0</th>\n",
       "      <th>0</th>\n",
       "      <th>0</th>\n",
       "      <th>0</th>\n",
       "      <th>0</th>\n",
       "      <th>0</th>\n",
       "      <th>0</th>\n",
       "      <th>...</th>\n",
       "      <th>0</th>\n",
       "      <th>0</th>\n",
       "      <th>0</th>\n",
       "      <th>0</th>\n",
       "      <th>0</th>\n",
       "      <th>0</th>\n",
       "      <th>0</th>\n",
       "      <th>0</th>\n",
       "      <th>0</th>\n",
       "      <th>0</th>\n",
       "    </tr>\n",
       "  </thead>\n",
       "  <tbody>\n",
       "    <tr>\n",
       "      <th>R_ACC_X</th>\n",
       "      <td>-0.017799</td>\n",
       "      <td>-0.027753</td>\n",
       "      <td>-0.043737</td>\n",
       "      <td>-0.071588</td>\n",
       "      <td>-0.094143</td>\n",
       "      <td>-0.110717</td>\n",
       "      <td>-0.132438</td>\n",
       "      <td>-0.156366</td>\n",
       "      <td>-0.180785</td>\n",
       "      <td>-0.204909</td>\n",
       "      <td>...</td>\n",
       "      <td>-2.791253</td>\n",
       "      <td>-2.835971</td>\n",
       "      <td>-2.869117</td>\n",
       "      <td>-2.887553</td>\n",
       "      <td>-2.892653</td>\n",
       "      <td>-2.888387</td>\n",
       "      <td>-2.880591</td>\n",
       "      <td>-2.875344</td>\n",
       "      <td>-2.870735</td>\n",
       "      <td>-2.856761</td>\n",
       "    </tr>\n",
       "    <tr>\n",
       "      <th>R_ACC_Y</th>\n",
       "      <td>0.226925</td>\n",
       "      <td>0.374122</td>\n",
       "      <td>0.394323</td>\n",
       "      <td>0.361275</td>\n",
       "      <td>0.332002</td>\n",
       "      <td>0.323373</td>\n",
       "      <td>0.324157</td>\n",
       "      <td>0.326266</td>\n",
       "      <td>0.326756</td>\n",
       "      <td>0.324206</td>\n",
       "      <td>...</td>\n",
       "      <td>0.183089</td>\n",
       "      <td>0.295081</td>\n",
       "      <td>0.425557</td>\n",
       "      <td>0.576432</td>\n",
       "      <td>0.748538</td>\n",
       "      <td>0.940110</td>\n",
       "      <td>1.148941</td>\n",
       "      <td>1.371551</td>\n",
       "      <td>1.607351</td>\n",
       "      <td>1.850849</td>\n",
       "    </tr>\n",
       "    <tr>\n",
       "      <th>R_ACC_Z</th>\n",
       "      <td>-0.106205</td>\n",
       "      <td>-0.217461</td>\n",
       "      <td>-0.314400</td>\n",
       "      <td>-0.408298</td>\n",
       "      <td>-0.515288</td>\n",
       "      <td>-0.624386</td>\n",
       "      <td>-0.742752</td>\n",
       "      <td>-0.864599</td>\n",
       "      <td>-0.984779</td>\n",
       "      <td>-1.111627</td>\n",
       "      <td>...</td>\n",
       "      <td>-13.565960</td>\n",
       "      <td>-13.778126</td>\n",
       "      <td>-13.971855</td>\n",
       "      <td>-14.142588</td>\n",
       "      <td>-14.291158</td>\n",
       "      <td>-14.418448</td>\n",
       "      <td>-14.525830</td>\n",
       "      <td>-14.620954</td>\n",
       "      <td>-14.720050</td>\n",
       "      <td>-14.816056</td>\n",
       "    </tr>\n",
       "  </tbody>\n",
       "</table>\n",
       "<p>3 rows × 130 columns</p>\n",
       "</div>"
      ],
      "text/plain": [
       "                0         0         0         0         0         0         0  \\\n",
       "R_ACC_X -0.017799 -0.027753 -0.043737 -0.071588 -0.094143 -0.110717 -0.132438   \n",
       "R_ACC_Y  0.226925  0.374122  0.394323  0.361275  0.332002  0.323373  0.324157   \n",
       "R_ACC_Z -0.106205 -0.217461 -0.314400 -0.408298 -0.515288 -0.624386 -0.742752   \n",
       "\n",
       "                0         0         0  ...          0          0          0  \\\n",
       "R_ACC_X -0.156366 -0.180785 -0.204909  ...  -2.791253  -2.835971  -2.869117   \n",
       "R_ACC_Y  0.326266  0.326756  0.324206  ...   0.183089   0.295081   0.425557   \n",
       "R_ACC_Z -0.864599 -0.984779 -1.111627  ... -13.565960 -13.778126 -13.971855   \n",
       "\n",
       "                 0          0          0          0          0          0  \\\n",
       "R_ACC_X  -2.887553  -2.892653  -2.888387  -2.880591  -2.875344  -2.870735   \n",
       "R_ACC_Y   0.576432   0.748538   0.940110   1.148941   1.371551   1.607351   \n",
       "R_ACC_Z -14.142588 -14.291158 -14.418448 -14.525830 -14.620954 -14.720050   \n",
       "\n",
       "                 0  \n",
       "R_ACC_X  -2.856761  \n",
       "R_ACC_Y   1.850849  \n",
       "R_ACC_Z -14.816056  \n",
       "\n",
       "[3 rows x 130 columns]"
      ]
     },
     "execution_count": 262,
     "metadata": {},
     "output_type": "execute_result"
    }
   ],
   "source": [
    "speed"
   ]
  },
  {
   "cell_type": "code",
   "execution_count": 254,
   "id": "91452873",
   "metadata": {},
   "outputs": [
    {
     "data": {
      "text/plain": [
       "3784"
      ]
     },
     "execution_count": 254,
     "metadata": {},
     "output_type": "execute_result"
    }
   ],
   "source": [
    "len(inputs_acc)"
   ]
  },
  {
   "cell_type": "code",
   "execution_count": 251,
   "id": "e442eaa7",
   "metadata": {},
   "outputs": [],
   "source": [
    "file_path = \"D:\\gait_dataset/salted/*\""
   ]
  },
  {
   "cell_type": "code",
   "execution_count": 252,
   "id": "3951fda0",
   "metadata": {},
   "outputs": [],
   "source": [
    "inputs_acc, inputs_gyr, stride_length = get_sensor_salted(file_path, normalization=False)"
   ]
  },
  {
   "cell_type": "code",
   "execution_count": 253,
   "id": "c9e05e48",
   "metadata": {},
   "outputs": [
    {
     "data": {
      "text/html": [
       "<div>\n",
       "<style scoped>\n",
       "    .dataframe tbody tr th:only-of-type {\n",
       "        vertical-align: middle;\n",
       "    }\n",
       "\n",
       "    .dataframe tbody tr th {\n",
       "        vertical-align: top;\n",
       "    }\n",
       "\n",
       "    .dataframe thead th {\n",
       "        text-align: right;\n",
       "    }\n",
       "</style>\n",
       "<table border=\"1\" class=\"dataframe\">\n",
       "  <thead>\n",
       "    <tr style=\"text-align: right;\">\n",
       "      <th></th>\n",
       "      <th>129</th>\n",
       "      <th>130</th>\n",
       "      <th>131</th>\n",
       "      <th>132</th>\n",
       "      <th>133</th>\n",
       "      <th>134</th>\n",
       "      <th>135</th>\n",
       "      <th>136</th>\n",
       "      <th>137</th>\n",
       "      <th>138</th>\n",
       "      <th>...</th>\n",
       "      <th>250</th>\n",
       "      <th>251</th>\n",
       "      <th>252</th>\n",
       "      <th>253</th>\n",
       "      <th>254</th>\n",
       "      <th>255</th>\n",
       "      <th>256</th>\n",
       "      <th>257</th>\n",
       "      <th>258</th>\n",
       "      <th>259</th>\n",
       "    </tr>\n",
       "  </thead>\n",
       "  <tbody>\n",
       "    <tr>\n",
       "      <th>R_ACC_X</th>\n",
       "      <td>-2.226098</td>\n",
       "      <td>-1.333698</td>\n",
       "      <td>-0.657042</td>\n",
       "      <td>-2.539909</td>\n",
       "      <td>-3.030239</td>\n",
       "      <td>-1.480797</td>\n",
       "      <td>-1.833834</td>\n",
       "      <td>-2.510490</td>\n",
       "      <td>-2.275131</td>\n",
       "      <td>-2.608556</td>\n",
       "      <td>...</td>\n",
       "      <td>-4.893493</td>\n",
       "      <td>-4.050126</td>\n",
       "      <td>-2.579136</td>\n",
       "      <td>-1.108146</td>\n",
       "      <td>0.088259</td>\n",
       "      <td>0.764915</td>\n",
       "      <td>0.794335</td>\n",
       "      <td>0.254972</td>\n",
       "      <td>0.666849</td>\n",
       "      <td>2.128032</td>\n",
       "    </tr>\n",
       "    <tr>\n",
       "      <th>R_ACC_Y</th>\n",
       "      <td>22.555180</td>\n",
       "      <td>22.829765</td>\n",
       "      <td>6.609648</td>\n",
       "      <td>-2.569329</td>\n",
       "      <td>-4.040319</td>\n",
       "      <td>-1.814221</td>\n",
       "      <td>0.088259</td>\n",
       "      <td>0.068646</td>\n",
       "      <td>0.353038</td>\n",
       "      <td>-0.254972</td>\n",
       "      <td>...</td>\n",
       "      <td>10.296930</td>\n",
       "      <td>12.101344</td>\n",
       "      <td>13.994018</td>\n",
       "      <td>16.180890</td>\n",
       "      <td>18.240276</td>\n",
       "      <td>20.074110</td>\n",
       "      <td>21.692199</td>\n",
       "      <td>22.829765</td>\n",
       "      <td>24.330175</td>\n",
       "      <td>24.369401</td>\n",
       "    </tr>\n",
       "    <tr>\n",
       "      <th>R_ACC_Z</th>\n",
       "      <td>-10.306737</td>\n",
       "      <td>-10.934359</td>\n",
       "      <td>-11.316816</td>\n",
       "      <td>-8.070832</td>\n",
       "      <td>-10.708807</td>\n",
       "      <td>-10.689194</td>\n",
       "      <td>-11.130491</td>\n",
       "      <td>-12.542641</td>\n",
       "      <td>-11.826760</td>\n",
       "      <td>-12.209217</td>\n",
       "      <td>...</td>\n",
       "      <td>-21.898138</td>\n",
       "      <td>-20.535020</td>\n",
       "      <td>-18.210856</td>\n",
       "      <td>-15.935725</td>\n",
       "      <td>-13.778273</td>\n",
       "      <td>-11.679661</td>\n",
       "      <td>-9.796793</td>\n",
       "      <td>-9.228011</td>\n",
       "      <td>-10.591128</td>\n",
       "      <td>-8.610195</td>\n",
       "    </tr>\n",
       "  </tbody>\n",
       "</table>\n",
       "<p>3 rows × 131 columns</p>\n",
       "</div>"
      ],
      "text/plain": [
       "               129        130        131       132        133        134  \\\n",
       "R_ACC_X  -2.226098  -1.333698  -0.657042 -2.539909  -3.030239  -1.480797   \n",
       "R_ACC_Y  22.555180  22.829765   6.609648 -2.569329  -4.040319  -1.814221   \n",
       "R_ACC_Z -10.306737 -10.934359 -11.316816 -8.070832 -10.708807 -10.689194   \n",
       "\n",
       "               135        136        137        138  ...        250  \\\n",
       "R_ACC_X  -1.833834  -2.510490  -2.275131  -2.608556  ...  -4.893493   \n",
       "R_ACC_Y   0.088259   0.068646   0.353038  -0.254972  ...  10.296930   \n",
       "R_ACC_Z -11.130491 -12.542641 -11.826760 -12.209217  ... -21.898138   \n",
       "\n",
       "               251        252        253        254        255        256  \\\n",
       "R_ACC_X  -4.050126  -2.579136  -1.108146   0.088259   0.764915   0.794335   \n",
       "R_ACC_Y  12.101344  13.994018  16.180890  18.240276  20.074110  21.692199   \n",
       "R_ACC_Z -20.535020 -18.210856 -15.935725 -13.778273 -11.679661  -9.796793   \n",
       "\n",
       "               257        258        259  \n",
       "R_ACC_X   0.254972   0.666849   2.128032  \n",
       "R_ACC_Y  22.829765  24.330175  24.369401  \n",
       "R_ACC_Z  -9.228011 -10.591128  -8.610195  \n",
       "\n",
       "[3 rows x 131 columns]"
      ]
     },
     "execution_count": 253,
     "metadata": {},
     "output_type": "execute_result"
    }
   ],
   "source": [
    "inputs_acc[0]"
   ]
  },
  {
   "cell_type": "code",
   "execution_count": 151,
   "id": "d3a25dd8",
   "metadata": {
    "scrolled": false
   },
   "outputs": [
    {
     "data": {
      "text/html": [
       "<div>\n",
       "<style scoped>\n",
       "    .dataframe tbody tr th:only-of-type {\n",
       "        vertical-align: middle;\n",
       "    }\n",
       "\n",
       "    .dataframe tbody tr th {\n",
       "        vertical-align: top;\n",
       "    }\n",
       "\n",
       "    .dataframe thead th {\n",
       "        text-align: right;\n",
       "    }\n",
       "</style>\n",
       "<table border=\"1\" class=\"dataframe\">\n",
       "  <thead>\n",
       "    <tr style=\"text-align: right;\">\n",
       "      <th></th>\n",
       "      <th>R_ACC_X</th>\n",
       "      <th>R_ACC_Y</th>\n",
       "      <th>R_ACC_Z</th>\n",
       "    </tr>\n",
       "  </thead>\n",
       "  <tbody>\n",
       "    <tr>\n",
       "      <th>0</th>\n",
       "      <td>-2.226098</td>\n",
       "      <td>22.555180</td>\n",
       "      <td>-10.306737</td>\n",
       "    </tr>\n",
       "    <tr>\n",
       "      <th>1</th>\n",
       "      <td>-1.333698</td>\n",
       "      <td>22.829765</td>\n",
       "      <td>-10.934359</td>\n",
       "    </tr>\n",
       "    <tr>\n",
       "      <th>2</th>\n",
       "      <td>-0.657042</td>\n",
       "      <td>6.609648</td>\n",
       "      <td>-11.316816</td>\n",
       "    </tr>\n",
       "    <tr>\n",
       "      <th>3</th>\n",
       "      <td>-2.539909</td>\n",
       "      <td>-2.569329</td>\n",
       "      <td>-8.070832</td>\n",
       "    </tr>\n",
       "    <tr>\n",
       "      <th>4</th>\n",
       "      <td>-3.030239</td>\n",
       "      <td>-4.040319</td>\n",
       "      <td>-10.708807</td>\n",
       "    </tr>\n",
       "    <tr>\n",
       "      <th>...</th>\n",
       "      <td>...</td>\n",
       "      <td>...</td>\n",
       "      <td>...</td>\n",
       "    </tr>\n",
       "    <tr>\n",
       "      <th>126</th>\n",
       "      <td>0.764915</td>\n",
       "      <td>20.074110</td>\n",
       "      <td>-11.679661</td>\n",
       "    </tr>\n",
       "    <tr>\n",
       "      <th>127</th>\n",
       "      <td>0.794335</td>\n",
       "      <td>21.692199</td>\n",
       "      <td>-9.796793</td>\n",
       "    </tr>\n",
       "    <tr>\n",
       "      <th>128</th>\n",
       "      <td>0.254972</td>\n",
       "      <td>22.829765</td>\n",
       "      <td>-9.228011</td>\n",
       "    </tr>\n",
       "    <tr>\n",
       "      <th>129</th>\n",
       "      <td>0.666849</td>\n",
       "      <td>24.330175</td>\n",
       "      <td>-10.591128</td>\n",
       "    </tr>\n",
       "    <tr>\n",
       "      <th>130</th>\n",
       "      <td>2.128032</td>\n",
       "      <td>24.369401</td>\n",
       "      <td>-8.610195</td>\n",
       "    </tr>\n",
       "  </tbody>\n",
       "</table>\n",
       "<p>131 rows × 3 columns</p>\n",
       "</div>"
      ],
      "text/plain": [
       "      R_ACC_X    R_ACC_Y    R_ACC_Z\n",
       "0   -2.226098  22.555180 -10.306737\n",
       "1   -1.333698  22.829765 -10.934359\n",
       "2   -0.657042   6.609648 -11.316816\n",
       "3   -2.539909  -2.569329  -8.070832\n",
       "4   -3.030239  -4.040319 -10.708807\n",
       "..        ...        ...        ...\n",
       "126  0.764915  20.074110 -11.679661\n",
       "127  0.794335  21.692199  -9.796793\n",
       "128  0.254972  22.829765  -9.228011\n",
       "129  0.666849  24.330175 -10.591128\n",
       "130  2.128032  24.369401  -8.610195\n",
       "\n",
       "[131 rows x 3 columns]"
      ]
     },
     "execution_count": 151,
     "metadata": {},
     "output_type": "execute_result"
    }
   ],
   "source": [
    "np.transpose(inputs_acc[0]).reset_index(drop=True)"
   ]
  },
  {
   "cell_type": "code",
   "execution_count": 111,
   "id": "69c7a815",
   "metadata": {},
   "outputs": [],
   "source": [
    "stride_ex = np.transpose(inputs_acc[0]).reset_index(drop=True)"
   ]
  },
  {
   "cell_type": "code",
   "execution_count": 153,
   "id": "a0dea41b",
   "metadata": {},
   "outputs": [
    {
     "data": {
      "text/html": [
       "<div>\n",
       "<style scoped>\n",
       "    .dataframe tbody tr th:only-of-type {\n",
       "        vertical-align: middle;\n",
       "    }\n",
       "\n",
       "    .dataframe tbody tr th {\n",
       "        vertical-align: top;\n",
       "    }\n",
       "\n",
       "    .dataframe thead th {\n",
       "        text-align: right;\n",
       "    }\n",
       "</style>\n",
       "<table border=\"1\" class=\"dataframe\">\n",
       "  <thead>\n",
       "    <tr style=\"text-align: right;\">\n",
       "      <th></th>\n",
       "      <th>R_ACC_X</th>\n",
       "      <th>R_ACC_Y</th>\n",
       "      <th>R_ACC_Z</th>\n",
       "    </tr>\n",
       "  </thead>\n",
       "  <tbody>\n",
       "    <tr>\n",
       "      <th>0</th>\n",
       "      <td>-2.226098</td>\n",
       "      <td>22.555180</td>\n",
       "      <td>-10.306737</td>\n",
       "    </tr>\n",
       "    <tr>\n",
       "      <th>1</th>\n",
       "      <td>-1.333698</td>\n",
       "      <td>22.829765</td>\n",
       "      <td>-10.934359</td>\n",
       "    </tr>\n",
       "    <tr>\n",
       "      <th>2</th>\n",
       "      <td>-0.657042</td>\n",
       "      <td>6.609648</td>\n",
       "      <td>-11.316816</td>\n",
       "    </tr>\n",
       "    <tr>\n",
       "      <th>3</th>\n",
       "      <td>-2.539909</td>\n",
       "      <td>-2.569329</td>\n",
       "      <td>-8.070832</td>\n",
       "    </tr>\n",
       "    <tr>\n",
       "      <th>4</th>\n",
       "      <td>-3.030239</td>\n",
       "      <td>-4.040319</td>\n",
       "      <td>-10.708807</td>\n",
       "    </tr>\n",
       "    <tr>\n",
       "      <th>...</th>\n",
       "      <td>...</td>\n",
       "      <td>...</td>\n",
       "      <td>...</td>\n",
       "    </tr>\n",
       "    <tr>\n",
       "      <th>126</th>\n",
       "      <td>0.764915</td>\n",
       "      <td>20.074110</td>\n",
       "      <td>-11.679661</td>\n",
       "    </tr>\n",
       "    <tr>\n",
       "      <th>127</th>\n",
       "      <td>0.794335</td>\n",
       "      <td>21.692199</td>\n",
       "      <td>-9.796793</td>\n",
       "    </tr>\n",
       "    <tr>\n",
       "      <th>128</th>\n",
       "      <td>0.254972</td>\n",
       "      <td>22.829765</td>\n",
       "      <td>-9.228011</td>\n",
       "    </tr>\n",
       "    <tr>\n",
       "      <th>129</th>\n",
       "      <td>0.666849</td>\n",
       "      <td>24.330175</td>\n",
       "      <td>-10.591128</td>\n",
       "    </tr>\n",
       "    <tr>\n",
       "      <th>130</th>\n",
       "      <td>2.128032</td>\n",
       "      <td>24.369401</td>\n",
       "      <td>-8.610195</td>\n",
       "    </tr>\n",
       "  </tbody>\n",
       "</table>\n",
       "<p>131 rows × 3 columns</p>\n",
       "</div>"
      ],
      "text/plain": [
       "      R_ACC_X    R_ACC_Y    R_ACC_Z\n",
       "0   -2.226098  22.555180 -10.306737\n",
       "1   -1.333698  22.829765 -10.934359\n",
       "2   -0.657042   6.609648 -11.316816\n",
       "3   -2.539909  -2.569329  -8.070832\n",
       "4   -3.030239  -4.040319 -10.708807\n",
       "..        ...        ...        ...\n",
       "126  0.764915  20.074110 -11.679661\n",
       "127  0.794335  21.692199  -9.796793\n",
       "128  0.254972  22.829765  -9.228011\n",
       "129  0.666849  24.330175 -10.591128\n",
       "130  2.128032  24.369401  -8.610195\n",
       "\n",
       "[131 rows x 3 columns]"
      ]
     },
     "execution_count": 153,
     "metadata": {},
     "output_type": "execute_result"
    }
   ],
   "source": [
    "stride_ex"
   ]
  },
  {
   "cell_type": "code",
   "execution_count": 215,
   "id": "b6fa91cf",
   "metadata": {},
   "outputs": [
    {
     "data": {
      "text/plain": [
       "array([-0.01779898,  0.22692472, -0.10620548])"
      ]
     },
     "execution_count": 215,
     "metadata": {},
     "output_type": "execute_result"
    }
   ],
   "source": [
    "sp1 = np.array(0.5*(stride_ex.iloc[0] + stride_ex.iloc[1])*(1/100))\n",
    "sp1"
   ]
  },
  {
   "cell_type": "code",
   "execution_count": 214,
   "id": "9072a0b3",
   "metadata": {},
   "outputs": [
    {
     "data": {
      "text/plain": [
       "array([-0.0099537 ,  0.14719707, -0.11125588])"
      ]
     },
     "execution_count": 214,
     "metadata": {},
     "output_type": "execute_result"
    }
   ],
   "source": [
    "sp2 = np.array(0.5*(stride_ex.iloc[1] + stride_ex.iloc[2])*(1/100))\n",
    "sp2"
   ]
  },
  {
   "cell_type": "code",
   "execution_count": 212,
   "id": "f569fe00",
   "metadata": {},
   "outputs": [
    {
     "data": {
      "text/plain": [
       "array([-0.02775268,  0.37412179, -0.21746135])"
      ]
     },
     "execution_count": 212,
     "metadata": {},
     "output_type": "execute_result"
    }
   ],
   "source": [
    "sp1 + sp2"
   ]
  },
  {
   "cell_type": "code",
   "execution_count": 181,
   "id": "681dbfed",
   "metadata": {},
   "outputs": [
    {
     "ename": "AttributeError",
     "evalue": "'float' object has no attribute 'values'",
     "output_type": "error",
     "traceback": [
      "\u001b[1;31m---------------------------------------------------------------------------\u001b[0m",
      "\u001b[1;31mAttributeError\u001b[0m                            Traceback (most recent call last)",
      "\u001b[1;32m~\\AppData\\Local\\Temp\\ipykernel_22316\\98699571.py\u001b[0m in \u001b[0;36m<module>\u001b[1;34m\u001b[0m\n\u001b[1;32m----> 1\u001b[1;33m \u001b[0msp1\u001b[0m \u001b[1;33m=\u001b[0m \u001b[1;36m0.5\u001b[0m\u001b[1;33m*\u001b[0m\u001b[1;33m(\u001b[0m\u001b[0mstride_ex\u001b[0m\u001b[1;33m.\u001b[0m\u001b[0miloc\u001b[0m\u001b[1;33m[\u001b[0m\u001b[1;36m0\u001b[0m\u001b[1;33m]\u001b[0m \u001b[1;33m+\u001b[0m \u001b[0mstride_ex\u001b[0m\u001b[1;33m.\u001b[0m\u001b[0miloc\u001b[0m\u001b[1;33m[\u001b[0m\u001b[1;36m1\u001b[0m\u001b[1;33m]\u001b[0m\u001b[1;33m)\u001b[0m\u001b[1;33m*\u001b[0m\u001b[1;33m(\u001b[0m\u001b[1;36m1\u001b[0m\u001b[1;33m/\u001b[0m\u001b[1;36m100\u001b[0m\u001b[1;33m)\u001b[0m\u001b[1;33m.\u001b[0m\u001b[0mvalues\u001b[0m\u001b[1;33m(\u001b[0m\u001b[1;33m)\u001b[0m\u001b[1;33m\u001b[0m\u001b[1;33m\u001b[0m\u001b[0m\n\u001b[0m\u001b[0;32m      2\u001b[0m \u001b[0msp1\u001b[0m\u001b[1;33m\u001b[0m\u001b[1;33m\u001b[0m\u001b[0m\n",
      "\u001b[1;31mAttributeError\u001b[0m: 'float' object has no attribute 'values'"
     ]
    }
   ],
   "source": [
    "sp1 = 0.5*(stride_ex.iloc[0] + stride_ex.iloc[1])*(1/100).values()\n",
    "sp1"
   ]
  },
  {
   "cell_type": "code",
   "execution_count": 144,
   "id": "f3fb29a9",
   "metadata": {},
   "outputs": [
    {
     "ename": "TypeError",
     "evalue": "append() got an unexpected keyword argument 'dim'",
     "output_type": "error",
     "traceback": [
      "\u001b[1;31m---------------------------------------------------------------------------\u001b[0m",
      "\u001b[1;31mTypeError\u001b[0m                                 Traceback (most recent call last)",
      "\u001b[1;32m~\\AppData\\Local\\Temp\\ipykernel_22316\\2601853381.py\u001b[0m in \u001b[0;36m<module>\u001b[1;34m\u001b[0m\n\u001b[1;32m----> 1\u001b[1;33m \u001b[0msp1\u001b[0m\u001b[1;33m.\u001b[0m\u001b[0mappend\u001b[0m\u001b[1;33m(\u001b[0m\u001b[0msp2\u001b[0m\u001b[1;33m,\u001b[0m \u001b[0mdim\u001b[0m\u001b[1;33m=\u001b[0m\u001b[1;36m1\u001b[0m\u001b[1;33m)\u001b[0m\u001b[1;33m\u001b[0m\u001b[1;33m\u001b[0m\u001b[0m\n\u001b[0m",
      "\u001b[1;31mTypeError\u001b[0m: append() got an unexpected keyword argument 'dim'"
     ]
    }
   ],
   "source": []
  },
  {
   "cell_type": "code",
   "execution_count": 139,
   "id": "80e69799",
   "metadata": {},
   "outputs": [],
   "source": [
    "itg_ini =  0.5*(stride_ex.iloc[0] + stride_ex.iloc[1])*(1/100)"
   ]
  },
  {
   "cell_type": "code",
   "execution_count": null,
   "id": "cd0f5c64",
   "metadata": {},
   "outputs": [],
   "source": [
    "itg = 0.5*(stride_ex.iloc[1] + stride_ex.iloc[2])*(1/100)"
   ]
  },
  {
   "cell_type": "code",
   "execution_count": 204,
   "id": "e0d87b59",
   "metadata": {},
   "outputs": [
    {
     "data": {
      "text/plain": [
       "R_ACC_X   -0.017799\n",
       "R_ACC_Y    0.226925\n",
       "R_ACC_Z   -0.106205\n",
       "dtype: float64"
      ]
     },
     "execution_count": 204,
     "metadata": {},
     "output_type": "execute_result"
    }
   ],
   "source": [
    "0 + sp1"
   ]
  },
  {
   "cell_type": "code",
   "execution_count": 168,
   "id": "0d88461d",
   "metadata": {},
   "outputs": [
    {
     "data": {
      "text/plain": [
       "131"
      ]
     },
     "execution_count": 168,
     "metadata": {},
     "output_type": "execute_result"
    }
   ],
   "source": [
    "inputs_acc[0].shape[1]"
   ]
  },
  {
   "cell_type": "code",
   "execution_count": 219,
   "id": "8919c70f",
   "metadata": {},
   "outputs": [
    {
     "data": {
      "text/html": [
       "<div>\n",
       "<style scoped>\n",
       "    .dataframe tbody tr th:only-of-type {\n",
       "        vertical-align: middle;\n",
       "    }\n",
       "\n",
       "    .dataframe tbody tr th {\n",
       "        vertical-align: top;\n",
       "    }\n",
       "\n",
       "    .dataframe thead th {\n",
       "        text-align: right;\n",
       "    }\n",
       "</style>\n",
       "<table border=\"1\" class=\"dataframe\">\n",
       "  <thead>\n",
       "    <tr style=\"text-align: right;\">\n",
       "      <th></th>\n",
       "      <th>129</th>\n",
       "      <th>130</th>\n",
       "      <th>131</th>\n",
       "      <th>132</th>\n",
       "      <th>133</th>\n",
       "      <th>134</th>\n",
       "      <th>135</th>\n",
       "      <th>136</th>\n",
       "      <th>137</th>\n",
       "      <th>138</th>\n",
       "      <th>...</th>\n",
       "      <th>250</th>\n",
       "      <th>251</th>\n",
       "      <th>252</th>\n",
       "      <th>253</th>\n",
       "      <th>254</th>\n",
       "      <th>255</th>\n",
       "      <th>256</th>\n",
       "      <th>257</th>\n",
       "      <th>258</th>\n",
       "      <th>259</th>\n",
       "    </tr>\n",
       "  </thead>\n",
       "  <tbody>\n",
       "    <tr>\n",
       "      <th>R_ACC_X</th>\n",
       "      <td>-2.226098</td>\n",
       "      <td>-1.333698</td>\n",
       "      <td>-0.657042</td>\n",
       "      <td>-2.539909</td>\n",
       "      <td>-3.030239</td>\n",
       "      <td>-1.480797</td>\n",
       "      <td>-1.833834</td>\n",
       "      <td>-2.510490</td>\n",
       "      <td>-2.275131</td>\n",
       "      <td>-2.608556</td>\n",
       "      <td>...</td>\n",
       "      <td>-4.893493</td>\n",
       "      <td>-4.050126</td>\n",
       "      <td>-2.579136</td>\n",
       "      <td>-1.108146</td>\n",
       "      <td>0.088259</td>\n",
       "      <td>0.764915</td>\n",
       "      <td>0.794335</td>\n",
       "      <td>0.254972</td>\n",
       "      <td>0.666849</td>\n",
       "      <td>2.128032</td>\n",
       "    </tr>\n",
       "    <tr>\n",
       "      <th>R_ACC_Y</th>\n",
       "      <td>22.555180</td>\n",
       "      <td>22.829765</td>\n",
       "      <td>6.609648</td>\n",
       "      <td>-2.569329</td>\n",
       "      <td>-4.040319</td>\n",
       "      <td>-1.814221</td>\n",
       "      <td>0.088259</td>\n",
       "      <td>0.068646</td>\n",
       "      <td>0.353038</td>\n",
       "      <td>-0.254972</td>\n",
       "      <td>...</td>\n",
       "      <td>10.296930</td>\n",
       "      <td>12.101344</td>\n",
       "      <td>13.994018</td>\n",
       "      <td>16.180890</td>\n",
       "      <td>18.240276</td>\n",
       "      <td>20.074110</td>\n",
       "      <td>21.692199</td>\n",
       "      <td>22.829765</td>\n",
       "      <td>24.330175</td>\n",
       "      <td>24.369401</td>\n",
       "    </tr>\n",
       "    <tr>\n",
       "      <th>R_ACC_Z</th>\n",
       "      <td>-10.306737</td>\n",
       "      <td>-10.934359</td>\n",
       "      <td>-11.316816</td>\n",
       "      <td>-8.070832</td>\n",
       "      <td>-10.708807</td>\n",
       "      <td>-10.689194</td>\n",
       "      <td>-11.130491</td>\n",
       "      <td>-12.542641</td>\n",
       "      <td>-11.826760</td>\n",
       "      <td>-12.209217</td>\n",
       "      <td>...</td>\n",
       "      <td>-21.898138</td>\n",
       "      <td>-20.535020</td>\n",
       "      <td>-18.210856</td>\n",
       "      <td>-15.935725</td>\n",
       "      <td>-13.778273</td>\n",
       "      <td>-11.679661</td>\n",
       "      <td>-9.796793</td>\n",
       "      <td>-9.228011</td>\n",
       "      <td>-10.591128</td>\n",
       "      <td>-8.610195</td>\n",
       "    </tr>\n",
       "  </tbody>\n",
       "</table>\n",
       "<p>3 rows × 131 columns</p>\n",
       "</div>"
      ],
      "text/plain": [
       "               129        130        131       132        133        134  \\\n",
       "R_ACC_X  -2.226098  -1.333698  -0.657042 -2.539909  -3.030239  -1.480797   \n",
       "R_ACC_Y  22.555180  22.829765   6.609648 -2.569329  -4.040319  -1.814221   \n",
       "R_ACC_Z -10.306737 -10.934359 -11.316816 -8.070832 -10.708807 -10.689194   \n",
       "\n",
       "               135        136        137        138  ...        250  \\\n",
       "R_ACC_X  -1.833834  -2.510490  -2.275131  -2.608556  ...  -4.893493   \n",
       "R_ACC_Y   0.088259   0.068646   0.353038  -0.254972  ...  10.296930   \n",
       "R_ACC_Z -11.130491 -12.542641 -11.826760 -12.209217  ... -21.898138   \n",
       "\n",
       "               251        252        253        254        255        256  \\\n",
       "R_ACC_X  -4.050126  -2.579136  -1.108146   0.088259   0.764915   0.794335   \n",
       "R_ACC_Y  12.101344  13.994018  16.180890  18.240276  20.074110  21.692199   \n",
       "R_ACC_Z -20.535020 -18.210856 -15.935725 -13.778273 -11.679661  -9.796793   \n",
       "\n",
       "               257        258        259  \n",
       "R_ACC_X   0.254972   0.666849   2.128032  \n",
       "R_ACC_Y  22.829765  24.330175  24.369401  \n",
       "R_ACC_Z  -9.228011 -10.591128  -8.610195  \n",
       "\n",
       "[3 rows x 131 columns]"
      ]
     },
     "execution_count": 219,
     "metadata": {},
     "output_type": "execute_result"
    }
   ],
   "source": [
    "inputs_acc[0]"
   ]
  },
  {
   "cell_type": "code",
   "execution_count": 221,
   "id": "63443c49",
   "metadata": {},
   "outputs": [
    {
     "data": {
      "text/html": [
       "<div>\n",
       "<style scoped>\n",
       "    .dataframe tbody tr th:only-of-type {\n",
       "        vertical-align: middle;\n",
       "    }\n",
       "\n",
       "    .dataframe tbody tr th {\n",
       "        vertical-align: top;\n",
       "    }\n",
       "\n",
       "    .dataframe thead th {\n",
       "        text-align: right;\n",
       "    }\n",
       "</style>\n",
       "<table border=\"1\" class=\"dataframe\">\n",
       "  <thead>\n",
       "    <tr style=\"text-align: right;\">\n",
       "      <th></th>\n",
       "      <th>R_ACC_X</th>\n",
       "      <th>R_ACC_Y</th>\n",
       "      <th>R_ACC_Z</th>\n",
       "    </tr>\n",
       "  </thead>\n",
       "  <tbody>\n",
       "    <tr>\n",
       "      <th>0</th>\n",
       "      <td>-2.226098</td>\n",
       "      <td>22.555180</td>\n",
       "      <td>-10.306737</td>\n",
       "    </tr>\n",
       "    <tr>\n",
       "      <th>1</th>\n",
       "      <td>-1.333698</td>\n",
       "      <td>22.829765</td>\n",
       "      <td>-10.934359</td>\n",
       "    </tr>\n",
       "    <tr>\n",
       "      <th>2</th>\n",
       "      <td>-0.657042</td>\n",
       "      <td>6.609648</td>\n",
       "      <td>-11.316816</td>\n",
       "    </tr>\n",
       "    <tr>\n",
       "      <th>3</th>\n",
       "      <td>-2.539909</td>\n",
       "      <td>-2.569329</td>\n",
       "      <td>-8.070832</td>\n",
       "    </tr>\n",
       "    <tr>\n",
       "      <th>4</th>\n",
       "      <td>-3.030239</td>\n",
       "      <td>-4.040319</td>\n",
       "      <td>-10.708807</td>\n",
       "    </tr>\n",
       "    <tr>\n",
       "      <th>...</th>\n",
       "      <td>...</td>\n",
       "      <td>...</td>\n",
       "      <td>...</td>\n",
       "    </tr>\n",
       "    <tr>\n",
       "      <th>126</th>\n",
       "      <td>0.764915</td>\n",
       "      <td>20.074110</td>\n",
       "      <td>-11.679661</td>\n",
       "    </tr>\n",
       "    <tr>\n",
       "      <th>127</th>\n",
       "      <td>0.794335</td>\n",
       "      <td>21.692199</td>\n",
       "      <td>-9.796793</td>\n",
       "    </tr>\n",
       "    <tr>\n",
       "      <th>128</th>\n",
       "      <td>0.254972</td>\n",
       "      <td>22.829765</td>\n",
       "      <td>-9.228011</td>\n",
       "    </tr>\n",
       "    <tr>\n",
       "      <th>129</th>\n",
       "      <td>0.666849</td>\n",
       "      <td>24.330175</td>\n",
       "      <td>-10.591128</td>\n",
       "    </tr>\n",
       "    <tr>\n",
       "      <th>130</th>\n",
       "      <td>2.128032</td>\n",
       "      <td>24.369401</td>\n",
       "      <td>-8.610195</td>\n",
       "    </tr>\n",
       "  </tbody>\n",
       "</table>\n",
       "<p>131 rows × 3 columns</p>\n",
       "</div>"
      ],
      "text/plain": [
       "      R_ACC_X    R_ACC_Y    R_ACC_Z\n",
       "0   -2.226098  22.555180 -10.306737\n",
       "1   -1.333698  22.829765 -10.934359\n",
       "2   -0.657042   6.609648 -11.316816\n",
       "3   -2.539909  -2.569329  -8.070832\n",
       "4   -3.030239  -4.040319 -10.708807\n",
       "..        ...        ...        ...\n",
       "126  0.764915  20.074110 -11.679661\n",
       "127  0.794335  21.692199  -9.796793\n",
       "128  0.254972  22.829765  -9.228011\n",
       "129  0.666849  24.330175 -10.591128\n",
       "130  2.128032  24.369401  -8.610195\n",
       "\n",
       "[131 rows x 3 columns]"
      ]
     },
     "execution_count": 221,
     "metadata": {},
     "output_type": "execute_result"
    }
   ],
   "source": [
    "stride_ex"
   ]
  },
  {
   "cell_type": "code",
   "execution_count": 226,
   "id": "0a7ef6dd",
   "metadata": {},
   "outputs": [
    {
     "data": {
      "text/plain": [
       "R_ACC_X   -0.017799\n",
       "R_ACC_Y    0.226925\n",
       "R_ACC_Z   -0.106205\n",
       "dtype: float64"
      ]
     },
     "execution_count": 226,
     "metadata": {},
     "output_type": "execute_result"
    }
   ],
   "source": [
    "0.5*(stride_ex.iloc[0] + stride_ex.iloc[1])*(1/100)   "
   ]
  },
  {
   "cell_type": "code",
   "execution_count": 233,
   "id": "6564e324",
   "metadata": {},
   "outputs": [
    {
     "name": "stdout",
     "output_type": "stream",
     "text": [
      "0\n",
      "R_ACC_X   -0.017799\n",
      "R_ACC_Y    0.226925\n",
      "R_ACC_Z   -0.106205\n",
      "dtype: float64\n",
      "1\n",
      "R_ACC_X   -0.027753\n",
      "R_ACC_Y    0.374122\n",
      "R_ACC_Z   -0.217461\n",
      "dtype: float64\n",
      "2\n",
      "R_ACC_X   -0.043737\n",
      "R_ACC_Y    0.394323\n",
      "R_ACC_Z   -0.314400\n",
      "dtype: float64\n",
      "3\n",
      "R_ACC_X   -0.071588\n",
      "R_ACC_Y    0.361275\n",
      "R_ACC_Z   -0.408298\n",
      "dtype: float64\n",
      "4\n",
      "R_ACC_X   -0.094143\n",
      "R_ACC_Y    0.332002\n",
      "R_ACC_Z   -0.515288\n",
      "dtype: float64\n",
      "5\n",
      "R_ACC_X   -0.110717\n",
      "R_ACC_Y    0.323373\n",
      "R_ACC_Z   -0.624386\n",
      "dtype: float64\n",
      "6\n",
      "R_ACC_X   -0.132438\n",
      "R_ACC_Y    0.324157\n",
      "R_ACC_Z   -0.742752\n",
      "dtype: float64\n",
      "7\n",
      "R_ACC_X   -0.156366\n",
      "R_ACC_Y    0.326266\n",
      "R_ACC_Z   -0.864599\n",
      "dtype: float64\n",
      "8\n",
      "R_ACC_X   -0.180785\n",
      "R_ACC_Y    0.326756\n",
      "R_ACC_Z   -0.984779\n",
      "dtype: float64\n",
      "9\n",
      "R_ACC_X   -0.204909\n",
      "R_ACC_Y    0.324206\n",
      "R_ACC_Z   -1.111627\n",
      "dtype: float64\n",
      "10\n",
      "R_ACC_X   -0.227856\n",
      "R_ACC_Y    0.323912\n",
      "R_ACC_Z   -1.246664\n",
      "dtype: float64\n",
      "11\n",
      "R_ACC_X   -0.250510\n",
      "R_ACC_Y    0.331659\n",
      "R_ACC_Z   -1.383172\n",
      "dtype: float64\n",
      "12\n",
      "R_ACC_X   -0.273261\n",
      "R_ACC_Y    0.349850\n",
      "R_ACC_Z   -1.510658\n",
      "dtype: float64\n",
      "13\n",
      "R_ACC_X   -0.297238\n",
      "R_ACC_Y    0.365394\n",
      "R_ACC_Z   -1.626621\n",
      "dtype: float64\n",
      "14\n",
      "R_ACC_X   -0.321706\n",
      "R_ACC_Y    0.368287\n",
      "R_ACC_Z   -1.736357\n",
      "dtype: float64\n",
      "15\n",
      "R_ACC_X   -0.344212\n",
      "R_ACC_Y    0.364560\n",
      "R_ACC_Z   -1.840993\n",
      "dtype: float64\n",
      "16\n",
      "R_ACC_X   -0.362305\n",
      "R_ACC_Y    0.362991\n",
      "R_ACC_Z   -1.939255\n",
      "dtype: float64\n",
      "17\n",
      "R_ACC_X   -0.378437\n",
      "R_ACC_Y    0.364364\n",
      "R_ACC_Z   -2.033546\n",
      "dtype: float64\n",
      "18\n",
      "R_ACC_X   -0.397020\n",
      "R_ACC_Y    0.365002\n",
      "R_ACC_Z   -2.128179\n",
      "dtype: float64\n",
      "19\n",
      "R_ACC_X   -0.419281\n",
      "R_ACC_Y    0.365394\n",
      "R_ACC_Z   -2.225314\n",
      "dtype: float64\n",
      "20\n",
      "R_ACC_X   -0.442082\n",
      "R_ACC_Y    0.364462\n",
      "R_ACC_Z   -2.323233\n",
      "dtype: float64\n",
      "21\n",
      "R_ACC_X   -0.462773\n",
      "R_ACC_Y    0.363236\n",
      "R_ACC_Z   -2.419779\n",
      "dtype: float64\n",
      "22\n",
      "R_ACC_X   -0.482338\n",
      "R_ACC_Y    0.361079\n",
      "R_ACC_Z   -2.515491\n",
      "dtype: float64\n",
      "23\n",
      "R_ACC_X   -0.502735\n",
      "R_ACC_Y    0.360932\n",
      "R_ACC_Z   -2.611890\n",
      "dtype: float64\n",
      "24\n",
      "R_ACC_X   -0.523084\n",
      "R_ACC_Y    0.361275\n",
      "R_ACC_Z   -2.710005\n",
      "dtype: float64\n",
      "25\n",
      "R_ACC_X   -0.541962\n",
      "R_ACC_Y    0.359216\n",
      "R_ACC_Z   -2.808463\n",
      "dtype: float64\n",
      "26\n",
      "R_ACC_X   -0.560104\n",
      "R_ACC_Y    0.357451\n",
      "R_ACC_Z   -2.905892\n",
      "dtype: float64\n",
      "27\n",
      "R_ACC_X   -0.578099\n",
      "R_ACC_Y    0.355391\n",
      "R_ACC_Z   -3.002781\n",
      "dtype: float64\n",
      "28\n",
      "R_ACC_X   -0.596192\n",
      "R_ACC_Y    0.355391\n",
      "R_ACC_Z   -3.100308\n",
      "dtype: float64\n",
      "29\n",
      "R_ACC_X   -0.613501\n",
      "R_ACC_Y    0.354214\n",
      "R_ACC_Z   -3.199452\n",
      "dtype: float64\n",
      "30\n",
      "R_ACC_X   -0.629829\n",
      "R_ACC_Y    0.353087\n",
      "R_ACC_Z   -3.298499\n",
      "dtype: float64\n",
      "31\n",
      "R_ACC_X   -0.646206\n",
      "R_ACC_Y    0.352743\n",
      "R_ACC_Z   -3.396320\n",
      "dtype: float64\n",
      "32\n",
      "R_ACC_X   -0.662877\n",
      "R_ACC_Y    0.352400\n",
      "R_ACC_Z   -3.494190\n",
      "dtype: float64\n",
      "33\n",
      "R_ACC_X   -0.679058\n",
      "R_ACC_Y    0.352302\n",
      "R_ACC_Z   -3.593138\n",
      "dtype: float64\n",
      "34\n",
      "R_ACC_X   -0.694160\n",
      "R_ACC_Y    0.350880\n",
      "R_ACC_Z   -3.692479\n",
      "dtype: float64\n",
      "35\n",
      "R_ACC_X   -0.708772\n",
      "R_ACC_Y    0.349262\n",
      "R_ACC_Z   -3.791281\n",
      "dtype: float64\n",
      "36\n",
      "R_ACC_X   -0.722894\n",
      "R_ACC_Y    0.348134\n",
      "R_ACC_Z   -3.890180\n",
      "dtype: float64\n",
      "37\n",
      "R_ACC_X   -0.737211\n",
      "R_ACC_Y    0.349066\n",
      "R_ACC_Z   -3.989178\n",
      "dtype: float64\n",
      "38\n",
      "R_ACC_X   -0.750744\n",
      "R_ACC_Y    0.349311\n",
      "R_ACC_Z   -4.089205\n",
      "dtype: float64\n",
      "39\n",
      "R_ACC_X   -0.763297\n",
      "R_ACC_Y    0.348772\n",
      "R_ACC_Z   -4.189919\n",
      "dtype: float64\n",
      "40\n",
      "R_ACC_X   -0.776536\n",
      "R_ACC_Y    0.348036\n",
      "R_ACC_Z   -4.289799\n",
      "dtype: float64\n",
      "41\n",
      "R_ACC_X   -0.790902\n",
      "R_ACC_Y    0.347742\n",
      "R_ACC_Z   -4.389238\n",
      "dtype: float64\n",
      "42\n",
      "R_ACC_X   -0.806397\n",
      "R_ACC_Y    0.348036\n",
      "R_ACC_Z   -4.487941\n",
      "dtype: float64\n",
      "43\n",
      "R_ACC_X   -0.822136\n",
      "R_ACC_Y    0.347301\n",
      "R_ACC_Z   -4.585615\n",
      "dtype: float64\n",
      "44\n",
      "R_ACC_X   -0.837925\n",
      "R_ACC_Y    0.347301\n",
      "R_ACC_Z   -4.682259\n",
      "dtype: float64\n",
      "45\n",
      "R_ACC_X   -0.854057\n",
      "R_ACC_Y    0.345585\n",
      "R_ACC_Z   -4.778903\n",
      "dtype: float64\n",
      "46\n",
      "R_ACC_X   -0.870238\n",
      "R_ACC_Y    0.344408\n",
      "R_ACC_Z   -4.876038\n",
      "dtype: float64\n",
      "47\n",
      "R_ACC_X   -0.886271\n",
      "R_ACC_Y    0.344702\n",
      "R_ACC_Z   -4.973417\n",
      "dtype: float64\n",
      "48\n",
      "R_ACC_X   -0.902060\n",
      "R_ACC_Y    0.343917\n",
      "R_ACC_Z   -5.070846\n",
      "dtype: float64\n",
      "49\n",
      "R_ACC_X   -0.917800\n",
      "R_ACC_Y    0.343378\n",
      "R_ACC_Z   -5.168470\n",
      "dtype: float64\n",
      "50\n",
      "R_ACC_X   -0.933441\n",
      "R_ACC_Y    0.342692\n",
      "R_ACC_Z   -5.266291\n",
      "dtype: float64\n",
      "51\n",
      "R_ACC_X   -0.949181\n",
      "R_ACC_Y    0.342643\n",
      "R_ACC_Z   -5.364112\n",
      "dtype: float64\n",
      "52\n",
      "R_ACC_X   -0.964430\n",
      "R_ACC_Y    0.342643\n",
      "R_ACC_Z   -5.462178\n",
      "dtype: float64\n",
      "53\n",
      "R_ACC_X   -0.979728\n",
      "R_ACC_Y    0.342152\n",
      "R_ACC_Z   -5.560097\n",
      "dtype: float64\n",
      "54\n",
      "R_ACC_X   -0.995664\n",
      "R_ACC_Y    0.341074\n",
      "R_ACC_Z   -5.658310\n",
      "dtype: float64\n",
      "55\n",
      "R_ACC_X   -1.011257\n",
      "R_ACC_Y    0.340779\n",
      "R_ACC_Z   -5.757504\n",
      "dtype: float64\n",
      "56\n",
      "R_ACC_X   -1.026702\n",
      "R_ACC_Y    0.342005\n",
      "R_ACC_Z   -5.857433\n",
      "dtype: float64\n",
      "57\n",
      "R_ACC_X   -1.041559\n",
      "R_ACC_Y    0.343770\n",
      "R_ACC_Z   -5.957411\n",
      "dtype: float64\n",
      "58\n",
      "R_ACC_X   -1.055926\n",
      "R_ACC_Y    0.345536\n",
      "R_ACC_Z   -6.057439\n",
      "dtype: float64\n",
      "59\n",
      "R_ACC_X   -1.070390\n",
      "R_ACC_Y    0.347791\n",
      "R_ACC_Z   -6.157417\n",
      "dtype: float64\n",
      "60\n",
      "R_ACC_X   -1.085002\n",
      "R_ACC_Y    0.349262\n",
      "R_ACC_Z   -6.257591\n",
      "dtype: float64\n",
      "61\n",
      "R_ACC_X   -1.099467\n",
      "R_ACC_Y    0.351469\n",
      "R_ACC_Z   -6.358894\n",
      "dtype: float64\n",
      "62\n",
      "R_ACC_X   -1.114275\n",
      "R_ACC_Y    0.355048\n",
      "R_ACC_Z   -6.461471\n",
      "dtype: float64\n",
      "63\n",
      "R_ACC_X   -1.130162\n",
      "R_ACC_Y    0.357549\n",
      "R_ACC_Z   -6.564685\n",
      "dtype: float64\n",
      "64\n",
      "R_ACC_X   -1.147274\n",
      "R_ACC_Y    0.358971\n",
      "R_ACC_Z   -6.668586\n",
      "dtype: float64\n",
      "65\n",
      "R_ACC_X   -1.164926\n",
      "R_ACC_Y    0.361324\n",
      "R_ACC_Z   -6.774105\n",
      "dtype: float64\n",
      "66\n",
      "R_ACC_X   -1.181989\n",
      "R_ACC_Y    0.366914\n",
      "R_ACC_Z   -6.882223\n",
      "dtype: float64\n",
      "67\n",
      "R_ACC_X   -1.200916\n",
      "R_ACC_Y    0.370689\n",
      "R_ACC_Z   -6.989360\n",
      "dtype: float64\n",
      "68\n",
      "R_ACC_X   -1.222246\n",
      "R_ACC_Y    0.373582\n",
      "R_ACC_Z   -7.103852\n",
      "dtype: float64\n",
      "69\n",
      "R_ACC_X   -1.244065\n",
      "R_ACC_Y    0.376181\n",
      "R_ACC_Z   -7.229573\n",
      "dtype: float64\n",
      "70\n",
      "R_ACC_X   -1.268631\n",
      "R_ACC_Y    0.377848\n",
      "R_ACC_Z   -7.355048\n",
      "dtype: float64\n",
      "71\n",
      "R_ACC_X   -1.295207\n",
      "R_ACC_Y    0.382801\n",
      "R_ACC_Z   -7.479003\n",
      "dtype: float64\n",
      "72\n",
      "R_ACC_X   -1.321439\n",
      "R_ACC_Y    0.385792\n",
      "R_ACC_Z   -7.601635\n",
      "dtype: float64\n",
      "73\n",
      "R_ACC_X   -1.347133\n",
      "R_ACC_Y    0.390744\n",
      "R_ACC_Z   -7.727846\n",
      "dtype: float64\n",
      "74\n",
      "R_ACC_X   -1.373807\n",
      "R_ACC_Y    0.400305\n",
      "R_ACC_Z   -7.859303\n",
      "dtype: float64\n",
      "75\n",
      "R_ACC_X   -1.398961\n",
      "R_ACC_Y    0.409426\n",
      "R_ACC_Z   -7.992085\n",
      "dtype: float64\n",
      "76\n",
      "R_ACC_X   -1.427645\n",
      "R_ACC_Y    0.412711\n",
      "R_ACC_Z   -8.134673\n",
      "dtype: float64\n",
      "77\n",
      "R_ACC_X   -1.463194\n",
      "R_ACC_Y    0.414280\n",
      "R_ACC_Z   -8.295452\n",
      "dtype: float64\n",
      "78\n",
      "R_ACC_X   -1.500998\n",
      "R_ACC_Y    0.415113\n",
      "R_ACC_Z   -8.475158\n",
      "dtype: float64\n",
      "79\n",
      "R_ACC_X   -1.537136\n",
      "R_ACC_Y    0.418399\n",
      "R_ACC_Z   -8.673447\n",
      "dtype: float64\n",
      "80\n",
      "R_ACC_X   -1.592102\n",
      "R_ACC_Y    0.428156\n",
      "R_ACC_Z   -8.878945\n",
      "dtype: float64\n",
      "81\n",
      "R_ACC_X   -1.658345\n",
      "R_ACC_Y    0.438208\n",
      "R_ACC_Z   -9.086599\n",
      "dtype: float64\n",
      "82\n",
      "R_ACC_X   -1.710958\n",
      "R_ACC_Y    0.460812\n",
      "R_ACC_Z   -9.301609\n",
      "dtype: float64\n",
      "83\n",
      "R_ACC_X   -1.803385\n",
      "R_ACC_Y    0.489104\n",
      "R_ACC_Z   -9.527308\n",
      "dtype: float64\n",
      "84\n",
      "R_ACC_X   -1.910424\n",
      "R_ACC_Y    0.508619\n",
      "R_ACC_Z   -9.759970\n",
      "dtype: float64\n",
      "85\n",
      "R_ACC_X   -1.963870\n",
      "R_ACC_Y    0.513277\n",
      "R_ACC_Z   -9.976990\n",
      "dtype: float64\n",
      "86\n",
      "R_ACC_X    -1.996820\n",
      "R_ACC_Y     0.490820\n",
      "R_ACC_Z   -10.168954\n",
      "dtype: float64\n",
      "87\n",
      "R_ACC_X    -2.038400\n",
      "R_ACC_Y     0.435021\n",
      "R_ACC_Z   -10.327919\n",
      "dtype: float64\n",
      "88\n",
      "R_ACC_X    -2.079588\n",
      "R_ACC_Y     0.385203\n",
      "R_ACC_Z   -10.436282\n",
      "dtype: float64\n",
      "89\n",
      "R_ACC_X    -2.127003\n",
      "R_ACC_Y     0.332002\n",
      "R_ACC_Z   -10.489532\n",
      "dtype: float64\n",
      "90\n",
      "R_ACC_X    -2.180399\n",
      "R_ACC_Y     0.240311\n",
      "R_ACC_Z   -10.525620\n",
      "dtype: float64\n",
      "91\n",
      "R_ACC_X    -2.215556\n",
      "R_ACC_Y     0.146364\n",
      "R_ACC_Z   -10.585097\n",
      "dtype: float64\n",
      "92\n",
      "R_ACC_X    -2.224186\n",
      "R_ACC_Y     0.066930\n",
      "R_ACC_Z   -10.654822\n",
      "dtype: float64\n",
      "93\n",
      "R_ACC_X    -2.212369\n",
      "R_ACC_Y    -0.001569\n",
      "R_ACC_Z   -10.716603\n",
      "dtype: float64\n",
      "94\n",
      "R_ACC_X    -2.186970\n",
      "R_ACC_Y    -0.053887\n",
      "R_ACC_Z   -10.770000\n",
      "dtype: float64\n",
      "95\n",
      "R_ACC_X    -2.155834\n",
      "R_ACC_Y    -0.090907\n",
      "R_ACC_Z   -10.818886\n",
      "dtype: float64\n",
      "96\n",
      "R_ACC_X    -2.127836\n",
      "R_ACC_Y    -0.121259\n",
      "R_ACC_Z   -10.864144\n",
      "dtype: float64\n",
      "97\n",
      "R_ACC_X    -2.111410\n",
      "R_ACC_Y    -0.148423\n",
      "R_ACC_Z   -10.907146\n",
      "dtype: float64\n",
      "98\n",
      "R_ACC_X    -2.111459\n",
      "R_ACC_Y    -0.172547\n",
      "R_ACC_Z   -10.951619\n",
      "dtype: float64\n",
      "99\n",
      "R_ACC_X    -2.127787\n",
      "R_ACC_Y    -0.194269\n",
      "R_ACC_Z   -10.999181\n",
      "dtype: float64\n",
      "100\n",
      "R_ACC_X    -2.155687\n",
      "R_ACC_Y    -0.215157\n",
      "R_ACC_Z   -11.049047\n",
      "dtype: float64\n",
      "101\n",
      "R_ACC_X    -2.187068\n",
      "R_ACC_Y    -0.235947\n",
      "R_ACC_Z   -11.100875\n",
      "dtype: float64\n",
      "102\n",
      "R_ACC_X    -2.214477\n",
      "R_ACC_Y    -0.256050\n",
      "R_ACC_Z   -11.155351\n",
      "dtype: float64\n",
      "103\n",
      "R_ACC_X    -2.234826\n",
      "R_ACC_Y    -0.273947\n",
      "R_ACC_Z   -11.214337\n",
      "dtype: float64\n",
      "104\n",
      "R_ACC_X    -2.249928\n",
      "R_ACC_Y    -0.288461\n",
      "R_ACC_Z   -11.279747\n",
      "dtype: float64\n",
      "105\n",
      "R_ACC_X    -2.264295\n",
      "R_ACC_Y    -0.299395\n",
      "R_ACC_Z   -11.352512\n",
      "dtype: float64\n",
      "106\n",
      "R_ACC_X    -2.282290\n",
      "R_ACC_Y    -0.306799\n",
      "R_ACC_Z   -11.433760\n",
      "dtype: float64\n",
      "107\n",
      "R_ACC_X    -2.306071\n",
      "R_ACC_Y    -0.309987\n",
      "R_ACC_Z   -11.524079\n",
      "dtype: float64\n",
      "108\n",
      "R_ACC_X    -2.335589\n",
      "R_ACC_Y    -0.307535\n",
      "R_ACC_Z   -11.623616\n",
      "dtype: float64\n",
      "109\n",
      "R_ACC_X    -2.369127\n",
      "R_ACC_Y    -0.298709\n",
      "R_ACC_Z   -11.733009\n",
      "dtype: float64\n",
      "110\n",
      "R_ACC_X    -2.404725\n",
      "R_ACC_Y    -0.283999\n",
      "R_ACC_Z   -11.852404\n",
      "dtype: float64\n",
      "111\n",
      "R_ACC_X    -2.440912\n",
      "R_ACC_Y    -0.264190\n",
      "R_ACC_Z   -11.981066\n",
      "dtype: float64\n",
      "112\n",
      "R_ACC_X    -2.475970\n",
      "R_ACC_Y    -0.239968\n",
      "R_ACC_Z   -12.117378\n",
      "dtype: float64\n",
      "113\n",
      "R_ACC_X    -2.508822\n",
      "R_ACC_Y    -0.211332\n",
      "R_ACC_Z   -12.260604\n",
      "dtype: float64\n",
      "114\n",
      "R_ACC_X    -2.540449\n",
      "R_ACC_Y    -0.178235\n",
      "R_ACC_Z   -12.412361\n",
      "dtype: float64\n",
      "115\n",
      "R_ACC_X    -2.573203\n",
      "R_ACC_Y    -0.140627\n",
      "R_ACC_Z   -12.574513\n",
      "dtype: float64\n",
      "116\n",
      "R_ACC_X    -2.609144\n",
      "R_ACC_Y    -0.097870\n",
      "R_ACC_Z   -12.748482\n",
      "dtype: float64\n",
      "117\n",
      "R_ACC_X    -2.649547\n",
      "R_ACC_Y    -0.047660\n",
      "R_ACC_Z   -12.935494\n",
      "dtype: float64\n",
      "118\n",
      "R_ACC_X    -2.694216\n",
      "R_ACC_Y     0.013680\n",
      "R_ACC_Z   -13.135647\n",
      "dtype: float64\n",
      "119\n",
      "R_ACC_X    -2.742121\n",
      "R_ACC_Y     0.089583\n",
      "R_ACC_Z   -13.347714\n",
      "dtype: float64\n",
      "120\n",
      "R_ACC_X    -2.791253\n",
      "R_ACC_Y     0.183089\n",
      "R_ACC_Z   -13.565960\n",
      "dtype: float64\n",
      "121\n",
      "R_ACC_X    -2.835971\n",
      "R_ACC_Y     0.295081\n",
      "R_ACC_Z   -13.778126\n",
      "dtype: float64\n",
      "122\n",
      "R_ACC_X    -2.869117\n",
      "R_ACC_Y     0.425557\n",
      "R_ACC_Z   -13.971855\n",
      "dtype: float64\n",
      "123\n",
      "R_ACC_X    -2.887553\n",
      "R_ACC_Y     0.576432\n",
      "R_ACC_Z   -14.142588\n",
      "dtype: float64\n",
      "124\n",
      "R_ACC_X    -2.892653\n",
      "R_ACC_Y     0.748538\n",
      "R_ACC_Z   -14.291158\n",
      "dtype: float64\n",
      "125\n",
      "R_ACC_X    -2.888387\n",
      "R_ACC_Y     0.940110\n",
      "R_ACC_Z   -14.418448\n",
      "dtype: float64\n",
      "126\n",
      "R_ACC_X    -2.880591\n",
      "R_ACC_Y     1.148941\n",
      "R_ACC_Z   -14.525830\n",
      "dtype: float64\n",
      "127\n",
      "R_ACC_X    -2.875344\n",
      "R_ACC_Y     1.371551\n",
      "R_ACC_Z   -14.620954\n",
      "dtype: float64\n",
      "128\n",
      "R_ACC_X    -2.870735\n",
      "R_ACC_Y     1.607351\n",
      "R_ACC_Z   -14.720050\n",
      "dtype: float64\n",
      "129\n",
      "R_ACC_X    -2.856761\n",
      "R_ACC_Y     1.850849\n",
      "R_ACC_Z   -14.816056\n",
      "dtype: float64\n"
     ]
    }
   ],
   "source": [
    "sp_x = 0\n",
    "for i in range(len(stride_ex)-1):\n",
    "    print(i)\n",
    "    vel_x = sp_x + 0.5*(stride_ex.iloc[i] + stride_ex.iloc[i+1])*(1/100)    \n",
    "    sp_x =+ vel_x\n",
    "    print(sp_x)"
   ]
  },
  {
   "cell_type": "code",
   "execution_count": 259,
   "id": "33bd75c7",
   "metadata": {
    "scrolled": true
   },
   "outputs": [],
   "source": [
    "##################\n",
    "speed = pd.DataFrame()\n",
    "itg = 0\n",
    "for i in range(len(stride_ex)-1):\n",
    "    trz = itg + 0.5*(stride_ex.iloc[i] + stride_ex.iloc[i+1])*(1/100)    \n",
    "    itg =+ trz\n",
    "    speed = pd.concat([speed, itg], axis=1)"
   ]
  },
  {
   "cell_type": "code",
   "execution_count": 260,
   "id": "0148d3fd",
   "metadata": {},
   "outputs": [
    {
     "data": {
      "text/html": [
       "<div>\n",
       "<style scoped>\n",
       "    .dataframe tbody tr th:only-of-type {\n",
       "        vertical-align: middle;\n",
       "    }\n",
       "\n",
       "    .dataframe tbody tr th {\n",
       "        vertical-align: top;\n",
       "    }\n",
       "\n",
       "    .dataframe thead th {\n",
       "        text-align: right;\n",
       "    }\n",
       "</style>\n",
       "<table border=\"1\" class=\"dataframe\">\n",
       "  <thead>\n",
       "    <tr style=\"text-align: right;\">\n",
       "      <th></th>\n",
       "      <th>0</th>\n",
       "      <th>0</th>\n",
       "      <th>0</th>\n",
       "      <th>0</th>\n",
       "      <th>0</th>\n",
       "      <th>0</th>\n",
       "      <th>0</th>\n",
       "      <th>0</th>\n",
       "      <th>0</th>\n",
       "      <th>0</th>\n",
       "      <th>...</th>\n",
       "      <th>0</th>\n",
       "      <th>0</th>\n",
       "      <th>0</th>\n",
       "      <th>0</th>\n",
       "      <th>0</th>\n",
       "      <th>0</th>\n",
       "      <th>0</th>\n",
       "      <th>0</th>\n",
       "      <th>0</th>\n",
       "      <th>0</th>\n",
       "    </tr>\n",
       "  </thead>\n",
       "  <tbody>\n",
       "    <tr>\n",
       "      <th>R_ACC_X</th>\n",
       "      <td>-0.017799</td>\n",
       "      <td>-0.027753</td>\n",
       "      <td>-0.043737</td>\n",
       "      <td>-0.071588</td>\n",
       "      <td>-0.094143</td>\n",
       "      <td>-0.110717</td>\n",
       "      <td>-0.132438</td>\n",
       "      <td>-0.156366</td>\n",
       "      <td>-0.180785</td>\n",
       "      <td>-0.204909</td>\n",
       "      <td>...</td>\n",
       "      <td>-2.791253</td>\n",
       "      <td>-2.835971</td>\n",
       "      <td>-2.869117</td>\n",
       "      <td>-2.887553</td>\n",
       "      <td>-2.892653</td>\n",
       "      <td>-2.888387</td>\n",
       "      <td>-2.880591</td>\n",
       "      <td>-2.875344</td>\n",
       "      <td>-2.870735</td>\n",
       "      <td>-2.856761</td>\n",
       "    </tr>\n",
       "    <tr>\n",
       "      <th>R_ACC_Y</th>\n",
       "      <td>0.226925</td>\n",
       "      <td>0.374122</td>\n",
       "      <td>0.394323</td>\n",
       "      <td>0.361275</td>\n",
       "      <td>0.332002</td>\n",
       "      <td>0.323373</td>\n",
       "      <td>0.324157</td>\n",
       "      <td>0.326266</td>\n",
       "      <td>0.326756</td>\n",
       "      <td>0.324206</td>\n",
       "      <td>...</td>\n",
       "      <td>0.183089</td>\n",
       "      <td>0.295081</td>\n",
       "      <td>0.425557</td>\n",
       "      <td>0.576432</td>\n",
       "      <td>0.748538</td>\n",
       "      <td>0.940110</td>\n",
       "      <td>1.148941</td>\n",
       "      <td>1.371551</td>\n",
       "      <td>1.607351</td>\n",
       "      <td>1.850849</td>\n",
       "    </tr>\n",
       "    <tr>\n",
       "      <th>R_ACC_Z</th>\n",
       "      <td>-0.106205</td>\n",
       "      <td>-0.217461</td>\n",
       "      <td>-0.314400</td>\n",
       "      <td>-0.408298</td>\n",
       "      <td>-0.515288</td>\n",
       "      <td>-0.624386</td>\n",
       "      <td>-0.742752</td>\n",
       "      <td>-0.864599</td>\n",
       "      <td>-0.984779</td>\n",
       "      <td>-1.111627</td>\n",
       "      <td>...</td>\n",
       "      <td>-13.565960</td>\n",
       "      <td>-13.778126</td>\n",
       "      <td>-13.971855</td>\n",
       "      <td>-14.142588</td>\n",
       "      <td>-14.291158</td>\n",
       "      <td>-14.418448</td>\n",
       "      <td>-14.525830</td>\n",
       "      <td>-14.620954</td>\n",
       "      <td>-14.720050</td>\n",
       "      <td>-14.816056</td>\n",
       "    </tr>\n",
       "  </tbody>\n",
       "</table>\n",
       "<p>3 rows × 130 columns</p>\n",
       "</div>"
      ],
      "text/plain": [
       "                0         0         0         0         0         0         0  \\\n",
       "R_ACC_X -0.017799 -0.027753 -0.043737 -0.071588 -0.094143 -0.110717 -0.132438   \n",
       "R_ACC_Y  0.226925  0.374122  0.394323  0.361275  0.332002  0.323373  0.324157   \n",
       "R_ACC_Z -0.106205 -0.217461 -0.314400 -0.408298 -0.515288 -0.624386 -0.742752   \n",
       "\n",
       "                0         0         0  ...          0          0          0  \\\n",
       "R_ACC_X -0.156366 -0.180785 -0.204909  ...  -2.791253  -2.835971  -2.869117   \n",
       "R_ACC_Y  0.326266  0.326756  0.324206  ...   0.183089   0.295081   0.425557   \n",
       "R_ACC_Z -0.864599 -0.984779 -1.111627  ... -13.565960 -13.778126 -13.971855   \n",
       "\n",
       "                 0          0          0          0          0          0  \\\n",
       "R_ACC_X  -2.887553  -2.892653  -2.888387  -2.880591  -2.875344  -2.870735   \n",
       "R_ACC_Y   0.576432   0.748538   0.940110   1.148941   1.371551   1.607351   \n",
       "R_ACC_Z -14.142588 -14.291158 -14.418448 -14.525830 -14.620954 -14.720050   \n",
       "\n",
       "                 0  \n",
       "R_ACC_X  -2.856761  \n",
       "R_ACC_Y   1.850849  \n",
       "R_ACC_Z -14.816056  \n",
       "\n",
       "[3 rows x 130 columns]"
      ]
     },
     "execution_count": 260,
     "metadata": {},
     "output_type": "execute_result"
    }
   ],
   "source": [
    "speed"
   ]
  },
  {
   "cell_type": "code",
   "execution_count": 249,
   "id": "08c16eb3",
   "metadata": {},
   "outputs": [
    {
     "data": {
      "text/plain": [
       "array([[-6.40763244e-02,  8.16929006e-01, -3.82339721e-01],\n",
       "       [-9.99096408e-02,  1.34683844e+00, -7.82860878e-01],\n",
       "       [-1.57454770e-01,  1.41956419e+00, -1.13183855e+00],\n",
       "       [-2.57717448e-01,  1.30059052e+00, -1.46987205e+00],\n",
       "       [-3.38916096e-01,  1.19520879e+00, -1.85503607e+00],\n",
       "       [-3.98579450e-01,  1.16414149e+00, -2.24779040e+00],\n",
       "       [-4.76777279e-01,  1.16696579e+00, -2.67390678e+00],\n",
       "       [-5.62918453e-01,  1.17455610e+00, -3.11255600e+00],\n",
       "       [-6.50824816e-01,  1.17632128e+00, -3.54520358e+00],\n",
       "       [-7.37672065e-01,  1.16714231e+00, -4.00185771e+00],\n",
       "       [-8.20282864e-01,  1.16608319e+00, -4.48799049e+00],\n",
       "       [-9.01834549e-01,  1.19397316e+00, -4.97941883e+00],\n",
       "       [-9.83739272e-01,  1.25946164e+00, -5.43836771e+00],\n",
       "       [-1.07005697e+00,  1.31541810e+00, -5.85583467e+00],\n",
       "       [-1.15813985e+00,  1.32583271e+00, -6.25088375e+00],\n",
       "       [-1.23916198e+00,  1.31241728e+00, -6.62757486e+00],\n",
       "       [-1.30429741e+00,  1.30676868e+00, -6.98131854e+00],\n",
       "       [-1.36237210e+00,  1.31171120e+00, -7.32076419e+00],\n",
       "       [-1.42927272e+00,  1.31400595e+00, -7.66144548e+00],\n",
       "       [-1.50941226e+00,  1.31541810e+00, -8.01112922e+00],\n",
       "       [-1.59149350e+00,  1.31206424e+00, -8.36363726e+00],\n",
       "       [-1.66598443e+00,  1.30765127e+00, -8.71120278e+00],\n",
       "       [-1.73641544e+00,  1.29988444e+00, -9.05576748e+00],\n",
       "       [-1.80984726e+00,  1.29935489e+00, -9.40280344e+00],\n",
       "       [-1.88310256e+00,  1.30059052e+00, -9.75601756e+00],\n",
       "       [-1.95106230e+00,  1.29317673e+00, -1.01104673e+01],\n",
       "       [-2.01637425e+00,  1.28682205e+00, -1.04612102e+01],\n",
       "       [-2.08115665e+00,  1.27940826e+00, -1.08100113e+01],\n",
       "       [-2.14629209e+00,  1.27940826e+00, -1.11611072e+01],\n",
       "       [-2.20860323e+00,  1.27517181e+00, -1.15180282e+01],\n",
       "       [-2.26738399e+00,  1.27111188e+00, -1.18745962e+01],\n",
       "       [-2.32634127e+00,  1.26987625e+00, -1.22267512e+01],\n",
       "       [-2.38635766e+00,  1.26864062e+00, -1.25790827e+01],\n",
       "       [-2.44460886e+00,  1.26828758e+00, -1.29352977e+01],\n",
       "       [-2.49897665e+00,  1.26316853e+00, -1.32929248e+01],\n",
       "       [-2.55157925e+00,  1.25734341e+00, -1.36486101e+01],\n",
       "       [-2.60241667e+00,  1.25328348e+00, -1.40046486e+01],\n",
       "       [-2.65396016e+00,  1.25663734e+00, -1.43610400e+01],\n",
       "       [-2.70267935e+00,  1.25751993e+00, -1.47211384e+01],\n",
       "       [-2.74786816e+00,  1.25557822e+00, -1.50837080e+01],\n",
       "       [-2.79552824e+00,  1.25293044e+00, -1.54432768e+01],\n",
       "       [-2.84724824e+00,  1.25187133e+00, -1.58012569e+01],\n",
       "       [-2.90302818e+00,  1.25293044e+00, -1.61565892e+01],\n",
       "       [-2.95969072e+00,  1.25028266e+00, -1.65082147e+01],\n",
       "       [-3.01652977e+00,  1.25028266e+00, -1.68561332e+01],\n",
       "       [-3.07460446e+00,  1.24410450e+00, -1.72040518e+01],\n",
       "       [-3.13285566e+00,  1.23986805e+00, -1.75537355e+01],\n",
       "       [-3.19057731e+00,  1.24092716e+00, -1.79043019e+01],\n",
       "       [-3.24741636e+00,  1.23810286e+00, -1.82550447e+01],\n",
       "       [-3.30407890e+00,  1.23616116e+00, -1.86064937e+01],\n",
       "       [-3.36038840e+00,  1.23368989e+00, -1.89586487e+01],\n",
       "       [-3.41705093e+00,  1.23351337e+00, -1.93108037e+01],\n",
       "       [-3.47194828e+00,  1.23351337e+00, -1.96638413e+01],\n",
       "       [-3.52702214e+00,  1.23174819e+00, -2.00163493e+01],\n",
       "       [-3.58439075e+00,  1.22786477e+00, -2.03699165e+01],\n",
       "       [-3.64052373e+00,  1.22680566e+00, -2.07270140e+01],\n",
       "       [-3.69612715e+00,  1.23121863e+00, -2.10867593e+01],\n",
       "       [-3.74961235e+00,  1.23757331e+00, -2.14466812e+01],\n",
       "       [-3.80133236e+00,  1.24392798e+00, -2.18067795e+01],\n",
       "       [-3.85340540e+00,  1.25204785e+00, -2.21667013e+01],\n",
       "       [-3.90600801e+00,  1.25734341e+00, -2.25273293e+01],\n",
       "       [-3.95808105e+00,  1.26528676e+00, -2.28920171e+01],\n",
       "       [-4.01138973e+00,  1.27817263e+00, -2.32612944e+01],\n",
       "       [-4.06858182e+00,  1.28717509e+00, -2.36328665e+01],\n",
       "       [-4.13018688e+00,  1.29229413e+00, -2.40069098e+01],\n",
       "       [-4.19373365e+00,  1.30076704e+00, -2.43867783e+01],\n",
       "       [-4.25516219e+00,  1.32089018e+00, -2.47760022e+01],\n",
       "       [-4.32329845e+00,  1.33448213e+00, -2.51616958e+01],\n",
       "       [-4.40008413e+00,  1.34489674e+00, -2.55738672e+01],\n",
       "       [-4.47863499e+00,  1.35425223e+00, -2.60264614e+01],\n",
       "       [-4.56707091e+00,  1.36025387e+00, -2.64781730e+01],\n",
       "       [-4.66274410e+00,  1.37808227e+00, -2.69244126e+01],\n",
       "       [-4.75718166e+00,  1.38884992e+00, -2.73658861e+01],\n",
       "       [-4.84967751e+00,  1.40667832e+00, -2.78202455e+01],\n",
       "       [-4.94570374e+00,  1.44109948e+00, -2.82934924e+01],\n",
       "       [-5.03625788e+00,  1.47393198e+00, -2.87715053e+01],\n",
       "       [-5.13952138e+00,  1.48575874e+00, -2.92848220e+01],\n",
       "       [-5.26749751e+00,  1.49140734e+00, -2.98636271e+01],\n",
       "       [-5.40359351e+00,  1.49440816e+00, -3.05105685e+01],\n",
       "       [-5.53368786e+00,  1.50623492e+00, -3.12244105e+01],\n",
       "       [-5.73156544e+00,  1.54136216e+00, -3.19642008e+01],\n",
       "       [-5.97004233e+00,  1.57754852e+00, -3.27117579e+01],\n",
       "       [-6.15944701e+00,  1.65892368e+00, -3.34857929e+01],\n",
       "       [-6.49218495e+00,  1.76077503e+00, -3.42983089e+01],\n",
       "       [-6.87752549e+00,  1.83102951e+00, -3.51358906e+01],\n",
       "       [-7.06993098e+00,  1.84779880e+00, -3.59171628e+01],\n",
       "       [-7.18855161e+00,  1.76695319e+00, -3.66082339e+01],\n",
       "       [-7.33823955e+00,  1.56607479e+00, -3.71805079e+01],\n",
       "       [-7.48651535e+00,  1.38673169e+00, -3.75706144e+01],\n",
       "       [-7.65720903e+00,  1.19520879e+00, -3.77623138e+01],\n",
       "       [-7.84943800e+00,  8.65118639e-01, -3.78922317e+01],\n",
       "       [-7.97600198e+00,  5.26908618e-01, -3.81063490e+01],\n",
       "       [-8.00706929e+00,  2.40948162e-01, -3.83573587e+01],\n",
       "       [-7.96452826e+00, -5.64860160e-03, -3.85797724e+01],\n",
       "       [-7.87309152e+00, -1.93994161e-01, -3.87720014e+01],\n",
       "       [-7.76100208e+00, -3.27265855e-01, -3.89479906e+01],\n",
       "       [-7.66020984e+00, -4.36530992e-01, -3.91109175e+01],\n",
       "       [-7.60107605e+00, -5.34322408e-01, -3.92657245e+01],\n",
       "       [-7.60125257e+00, -6.21169657e-01, -3.94258270e+01],\n",
       "       [-7.66003333e+00, -6.99367486e-01, -3.95970503e+01],\n",
       "       [-7.76047252e+00, -7.74564494e-01, -3.97765699e+01],\n",
       "       [-7.87344456e+00, -8.49408466e-01, -3.99631502e+01],\n",
       "       [-7.97211856e+00, -9.21781174e-01, -4.01592626e+01],\n",
       "       [-8.04537387e+00, -9.86210536e-01, -4.03716147e+01],\n",
       "       [-8.09974166e+00, -1.03846010e+00, -4.06070908e+01],\n",
       "       [-8.15146167e+00, -1.07782379e+00, -4.08690447e+01],\n",
       "       [-8.21624406e+00, -1.10447813e+00, -4.11615364e+01],\n",
       "       [-8.30185568e+00, -1.11595185e+00, -4.14866840e+01],\n",
       "       [-8.40812000e+00, -1.10712591e+00, -4.18450172e+01],\n",
       "       [-8.52885886e+00, -1.07535253e+00, -4.22388306e+01],\n",
       "       [-8.65701151e+00, -1.02239689e+00, -4.26686539e+01],\n",
       "       [-8.78728238e+00, -9.51083294e-01, -4.31318392e+01],\n",
       "       [-8.91349332e+00, -8.63883007e-01, -4.36225615e+01],\n",
       "       [-9.03176092e+00, -7.60796028e-01, -4.41381729e+01],\n",
       "       [-9.14561555e+00, -6.41645838e-01, -4.46844986e+01],\n",
       "       [-9.26353011e+00, -5.06255918e-01, -4.52682463e+01],\n",
       "       [-9.39291839e+00, -3.52331525e-01, -4.58945350e+01],\n",
       "       [-9.53836988e+00, -1.71576274e-01, -4.65677777e+01],\n",
       "       [-9.69917850e+00,  4.92487452e-02, -4.72883274e+01],\n",
       "       [-9.87163737e+00,  3.22499848e-01, -4.80517712e+01],\n",
       "       [-1.00485092e+01,  6.59121199e-01, -4.88374564e+01],\n",
       "       [-1.02094944e+01,  1.06229014e+00, -4.96012532e+01],\n",
       "       [-1.03288211e+01,  1.53200667e+00, -5.02986790e+01],\n",
       "       [-1.03951921e+01,  2.07515501e+00, -5.09133175e+01],\n",
       "       [-1.04135501e+01,  2.69473600e+00, -5.14481694e+01],\n",
       "       [-1.03981930e+01,  3.38439495e+00, -5.19064123e+01],\n",
       "       [-1.03701265e+01,  4.13618852e+00, -5.22929884e+01],\n",
       "       [-1.03512390e+01,  4.93758387e+00, -5.26354349e+01],\n",
       "       [-1.03346462e+01,  5.78646278e+00, -5.29921794e+01],\n",
       "       [-1.02843383e+01,  6.66305514e+00, -5.33378032e+01]])"
      ]
     },
     "execution_count": 249,
     "metadata": {},
     "output_type": "execute_result"
    }
   ],
   "source": [
    "np.array(np.transpose(speed_x)) * 3.6"
   ]
  },
  {
   "cell_type": "code",
   "execution_count": 250,
   "id": "f3c9e04f",
   "metadata": {},
   "outputs": [
    {
     "data": {
      "text/plain": [
       "[<matplotlib.lines.Line2D at 0x20e3988ccc8>,\n",
       " <matplotlib.lines.Line2D at 0x20e3bcdca48>,\n",
       " <matplotlib.lines.Line2D at 0x20e36e9a148>]"
      ]
     },
     "execution_count": 250,
     "metadata": {},
     "output_type": "execute_result"
    },
    {
     "data": {
      "image/png": "[encoded data removed]",
      "text/plain": [
       "<Figure size 1080x216 with 1 Axes>"
      ]
     },
     "metadata": {
      "needs_background": "light"
     },
     "output_type": "display_data"
    }
   ],
   "source": [
    "plt.figure(figsize=(15,3))\n",
    "plt.plot(np.array(np.transpose(speed_x))*3.6)"
   ]
  },
  {
   "cell_type": "code",
   "execution_count": 125,
   "id": "0f118cc7",
   "metadata": {},
   "outputs": [
    {
     "data": {
      "text/html": [
       "<div>\n",
       "<style scoped>\n",
       "    .dataframe tbody tr th:only-of-type {\n",
       "        vertical-align: middle;\n",
       "    }\n",
       "\n",
       "    .dataframe tbody tr th {\n",
       "        vertical-align: top;\n",
       "    }\n",
       "\n",
       "    .dataframe thead th {\n",
       "        text-align: right;\n",
       "    }\n",
       "</style>\n",
       "<table border=\"1\" class=\"dataframe\">\n",
       "  <thead>\n",
       "    <tr style=\"text-align: right;\">\n",
       "      <th></th>\n",
       "      <th>0</th>\n",
       "      <th>1</th>\n",
       "    </tr>\n",
       "  </thead>\n",
       "  <tbody>\n",
       "    <tr>\n",
       "      <th>R_ACC_X</th>\n",
       "      <td>-0.017799</td>\n",
       "      <td>-0.009954</td>\n",
       "    </tr>\n",
       "    <tr>\n",
       "      <th>R_ACC_Y</th>\n",
       "      <td>0.226925</td>\n",
       "      <td>0.147197</td>\n",
       "    </tr>\n",
       "    <tr>\n",
       "      <th>R_ACC_Z</th>\n",
       "      <td>-0.106205</td>\n",
       "      <td>-0.111256</td>\n",
       "    </tr>\n",
       "  </tbody>\n",
       "</table>\n",
       "</div>"
      ],
      "text/plain": [
       "                0         1\n",
       "R_ACC_X -0.017799 -0.009954\n",
       "R_ACC_Y  0.226925  0.147197\n",
       "R_ACC_Z -0.106205 -0.111256"
      ]
     },
     "execution_count": 125,
     "metadata": {},
     "output_type": "execute_result"
    }
   ],
   "source": [
    "pd.concat([sp1, sp2], axis=1)"
   ]
  },
  {
   "cell_type": "code",
   "execution_count": null,
   "id": "09c0a82d",
   "metadata": {},
   "outputs": [],
   "source": [
    "itg = 0\n",
    "for i in range(len(inputs_acc)):\n",
    "    acc = np.transpose(inputs_acc[i]).reset_index(drop=True)\n",
    "    itg = itg + 0.5*(acc.iloc[0] + acc.iloc[1])*(1/100)\n",
    "    sp =\n",
    "    sp = pd.concat([sp, itg], axis=1)"
   ]
  },
  {
   "cell_type": "code",
   "execution_count": 104,
   "id": "9223dac0",
   "metadata": {},
   "outputs": [
    {
     "data": {
      "text/html": [
       "<div>\n",
       "<style scoped>\n",
       "    .dataframe tbody tr th:only-of-type {\n",
       "        vertical-align: middle;\n",
       "    }\n",
       "\n",
       "    .dataframe tbody tr th {\n",
       "        vertical-align: top;\n",
       "    }\n",
       "\n",
       "    .dataframe thead th {\n",
       "        text-align: right;\n",
       "    }\n",
       "</style>\n",
       "<table border=\"1\" class=\"dataframe\">\n",
       "  <thead>\n",
       "    <tr style=\"text-align: right;\">\n",
       "      <th></th>\n",
       "      <th>129</th>\n",
       "      <th>130</th>\n",
       "      <th>131</th>\n",
       "      <th>132</th>\n",
       "      <th>133</th>\n",
       "      <th>134</th>\n",
       "      <th>135</th>\n",
       "      <th>136</th>\n",
       "      <th>137</th>\n",
       "      <th>138</th>\n",
       "      <th>...</th>\n",
       "      <th>250</th>\n",
       "      <th>251</th>\n",
       "      <th>252</th>\n",
       "      <th>253</th>\n",
       "      <th>254</th>\n",
       "      <th>255</th>\n",
       "      <th>256</th>\n",
       "      <th>257</th>\n",
       "      <th>258</th>\n",
       "      <th>259</th>\n",
       "    </tr>\n",
       "  </thead>\n",
       "  <tbody>\n",
       "    <tr>\n",
       "      <th>R_ACC_X</th>\n",
       "      <td>-2.226098</td>\n",
       "      <td>-1.333698</td>\n",
       "      <td>-0.657042</td>\n",
       "      <td>-2.539909</td>\n",
       "      <td>-3.030239</td>\n",
       "      <td>-1.480797</td>\n",
       "      <td>-1.833834</td>\n",
       "      <td>-2.510490</td>\n",
       "      <td>-2.275131</td>\n",
       "      <td>-2.608556</td>\n",
       "      <td>...</td>\n",
       "      <td>-4.893493</td>\n",
       "      <td>-4.050126</td>\n",
       "      <td>-2.579136</td>\n",
       "      <td>-1.108146</td>\n",
       "      <td>0.088259</td>\n",
       "      <td>0.764915</td>\n",
       "      <td>0.794335</td>\n",
       "      <td>0.254972</td>\n",
       "      <td>0.666849</td>\n",
       "      <td>2.128032</td>\n",
       "    </tr>\n",
       "    <tr>\n",
       "      <th>R_ACC_Y</th>\n",
       "      <td>22.555180</td>\n",
       "      <td>22.829765</td>\n",
       "      <td>6.609648</td>\n",
       "      <td>-2.569329</td>\n",
       "      <td>-4.040319</td>\n",
       "      <td>-1.814221</td>\n",
       "      <td>0.088259</td>\n",
       "      <td>0.068646</td>\n",
       "      <td>0.353038</td>\n",
       "      <td>-0.254972</td>\n",
       "      <td>...</td>\n",
       "      <td>10.296930</td>\n",
       "      <td>12.101344</td>\n",
       "      <td>13.994018</td>\n",
       "      <td>16.180890</td>\n",
       "      <td>18.240276</td>\n",
       "      <td>20.074110</td>\n",
       "      <td>21.692199</td>\n",
       "      <td>22.829765</td>\n",
       "      <td>24.330175</td>\n",
       "      <td>24.369401</td>\n",
       "    </tr>\n",
       "    <tr>\n",
       "      <th>R_ACC_Z</th>\n",
       "      <td>-10.306737</td>\n",
       "      <td>-10.934359</td>\n",
       "      <td>-11.316816</td>\n",
       "      <td>-8.070832</td>\n",
       "      <td>-10.708807</td>\n",
       "      <td>-10.689194</td>\n",
       "      <td>-11.130491</td>\n",
       "      <td>-12.542641</td>\n",
       "      <td>-11.826760</td>\n",
       "      <td>-12.209217</td>\n",
       "      <td>...</td>\n",
       "      <td>-21.898138</td>\n",
       "      <td>-20.535020</td>\n",
       "      <td>-18.210856</td>\n",
       "      <td>-15.935725</td>\n",
       "      <td>-13.778273</td>\n",
       "      <td>-11.679661</td>\n",
       "      <td>-9.796793</td>\n",
       "      <td>-9.228011</td>\n",
       "      <td>-10.591128</td>\n",
       "      <td>-8.610195</td>\n",
       "    </tr>\n",
       "  </tbody>\n",
       "</table>\n",
       "<p>3 rows × 131 columns</p>\n",
       "</div>"
      ],
      "text/plain": [
       "               129        130        131       132        133        134  \\\n",
       "R_ACC_X  -2.226098  -1.333698  -0.657042 -2.539909  -3.030239  -1.480797   \n",
       "R_ACC_Y  22.555180  22.829765   6.609648 -2.569329  -4.040319  -1.814221   \n",
       "R_ACC_Z -10.306737 -10.934359 -11.316816 -8.070832 -10.708807 -10.689194   \n",
       "\n",
       "               135        136        137        138  ...        250  \\\n",
       "R_ACC_X  -1.833834  -2.510490  -2.275131  -2.608556  ...  -4.893493   \n",
       "R_ACC_Y   0.088259   0.068646   0.353038  -0.254972  ...  10.296930   \n",
       "R_ACC_Z -11.130491 -12.542641 -11.826760 -12.209217  ... -21.898138   \n",
       "\n",
       "               251        252        253        254        255        256  \\\n",
       "R_ACC_X  -4.050126  -2.579136  -1.108146   0.088259   0.764915   0.794335   \n",
       "R_ACC_Y  12.101344  13.994018  16.180890  18.240276  20.074110  21.692199   \n",
       "R_ACC_Z -20.535020 -18.210856 -15.935725 -13.778273 -11.679661  -9.796793   \n",
       "\n",
       "               257        258        259  \n",
       "R_ACC_X   0.254972   0.666849   2.128032  \n",
       "R_ACC_Y  22.829765  24.330175  24.369401  \n",
       "R_ACC_Z  -9.228011 -10.591128  -8.610195  \n",
       "\n",
       "[3 rows x 131 columns]"
      ]
     },
     "execution_count": 104,
     "metadata": {},
     "output_type": "execute_result"
    }
   ],
   "source": [
    "inputs_acc[0]"
   ]
  },
  {
   "cell_type": "code",
   "execution_count": 98,
   "id": "1ff96960",
   "metadata": {},
   "outputs": [
    {
     "data": {
      "text/html": [
       "<div>\n",
       "<style scoped>\n",
       "    .dataframe tbody tr th:only-of-type {\n",
       "        vertical-align: middle;\n",
       "    }\n",
       "\n",
       "    .dataframe tbody tr th {\n",
       "        vertical-align: top;\n",
       "    }\n",
       "\n",
       "    .dataframe thead th {\n",
       "        text-align: right;\n",
       "    }\n",
       "</style>\n",
       "<table border=\"1\" class=\"dataframe\">\n",
       "  <thead>\n",
       "    <tr style=\"text-align: right;\">\n",
       "      <th></th>\n",
       "      <th>R_ACC_X</th>\n",
       "      <th>R_ACC_Y</th>\n",
       "      <th>R_ACC_Z</th>\n",
       "    </tr>\n",
       "  </thead>\n",
       "  <tbody>\n",
       "    <tr>\n",
       "      <th>0</th>\n",
       "      <td>-2.226098</td>\n",
       "      <td>22.555180</td>\n",
       "      <td>-10.306737</td>\n",
       "    </tr>\n",
       "    <tr>\n",
       "      <th>1</th>\n",
       "      <td>-1.333698</td>\n",
       "      <td>22.829765</td>\n",
       "      <td>-10.934359</td>\n",
       "    </tr>\n",
       "    <tr>\n",
       "      <th>2</th>\n",
       "      <td>-0.657042</td>\n",
       "      <td>6.609648</td>\n",
       "      <td>-11.316816</td>\n",
       "    </tr>\n",
       "    <tr>\n",
       "      <th>3</th>\n",
       "      <td>-2.539909</td>\n",
       "      <td>-2.569329</td>\n",
       "      <td>-8.070832</td>\n",
       "    </tr>\n",
       "    <tr>\n",
       "      <th>4</th>\n",
       "      <td>-3.030239</td>\n",
       "      <td>-4.040319</td>\n",
       "      <td>-10.708807</td>\n",
       "    </tr>\n",
       "    <tr>\n",
       "      <th>...</th>\n",
       "      <td>...</td>\n",
       "      <td>...</td>\n",
       "      <td>...</td>\n",
       "    </tr>\n",
       "    <tr>\n",
       "      <th>126</th>\n",
       "      <td>0.764915</td>\n",
       "      <td>20.074110</td>\n",
       "      <td>-11.679661</td>\n",
       "    </tr>\n",
       "    <tr>\n",
       "      <th>127</th>\n",
       "      <td>0.794335</td>\n",
       "      <td>21.692199</td>\n",
       "      <td>-9.796793</td>\n",
       "    </tr>\n",
       "    <tr>\n",
       "      <th>128</th>\n",
       "      <td>0.254972</td>\n",
       "      <td>22.829765</td>\n",
       "      <td>-9.228011</td>\n",
       "    </tr>\n",
       "    <tr>\n",
       "      <th>129</th>\n",
       "      <td>0.666849</td>\n",
       "      <td>24.330175</td>\n",
       "      <td>-10.591128</td>\n",
       "    </tr>\n",
       "    <tr>\n",
       "      <th>130</th>\n",
       "      <td>2.128032</td>\n",
       "      <td>24.369401</td>\n",
       "      <td>-8.610195</td>\n",
       "    </tr>\n",
       "  </tbody>\n",
       "</table>\n",
       "<p>131 rows × 3 columns</p>\n",
       "</div>"
      ],
      "text/plain": [
       "      R_ACC_X    R_ACC_Y    R_ACC_Z\n",
       "0   -2.226098  22.555180 -10.306737\n",
       "1   -1.333698  22.829765 -10.934359\n",
       "2   -0.657042   6.609648 -11.316816\n",
       "3   -2.539909  -2.569329  -8.070832\n",
       "4   -3.030239  -4.040319 -10.708807\n",
       "..        ...        ...        ...\n",
       "126  0.764915  20.074110 -11.679661\n",
       "127  0.794335  21.692199  -9.796793\n",
       "128  0.254972  22.829765  -9.228011\n",
       "129  0.666849  24.330175 -10.591128\n",
       "130  2.128032  24.369401  -8.610195\n",
       "\n",
       "[131 rows x 3 columns]"
      ]
     },
     "execution_count": 98,
     "metadata": {},
     "output_type": "execute_result"
    }
   ],
   "source": [
    "np.transpose(inputs_acc[0]).reset_index(drop=True)"
   ]
  },
  {
   "cell_type": "code",
   "execution_count": 99,
   "id": "2a9a5a12",
   "metadata": {},
   "outputs": [
    {
     "data": {
      "text/plain": [
       "[<matplotlib.lines.Line2D at 0x20e22d31e08>,\n",
       " <matplotlib.lines.Line2D at 0x20e39958108>,\n",
       " <matplotlib.lines.Line2D at 0x20e399e7088>]"
      ]
     },
     "execution_count": 99,
     "metadata": {},
     "output_type": "execute_result"
    },
    {
     "data": {
      "image/png": "[encoded data removed]",
      "text/plain": [
       "<Figure size 432x288 with 1 Axes>"
      ]
     },
     "metadata": {
      "needs_background": "light"
     },
     "output_type": "display_data"
    }
   ],
   "source": [
    "plt.plot(np.transpose(inputs_acc[0]).reset_index(drop=True))"
   ]
  },
  {
   "cell_type": "code",
   "execution_count": 49,
   "id": "9b665b98",
   "metadata": {},
   "outputs": [
    {
     "ename": "NameError",
     "evalue": "name 'acc_norm' is not defined",
     "output_type": "error",
     "traceback": [
      "\u001b[1;31m---------------------------------------------------------------------------\u001b[0m",
      "\u001b[1;31mNameError\u001b[0m                                 Traceback (most recent call last)",
      "\u001b[1;32m~\\AppData\\Local\\Temp\\ipykernel_22316\\64544316.py\u001b[0m in \u001b[0;36m<module>\u001b[1;34m\u001b[0m\n\u001b[1;32m----> 1\u001b[1;33m \u001b[0mnp\u001b[0m\u001b[1;33m.\u001b[0m\u001b[0mtranspose\u001b[0m\u001b[1;33m(\u001b[0m\u001b[0mcv2\u001b[0m\u001b[1;33m.\u001b[0m\u001b[0mresize\u001b[0m\u001b[1;33m(\u001b[0m\u001b[0macc_norm\u001b[0m\u001b[1;33m[\u001b[0m\u001b[0mevent_hs\u001b[0m\u001b[1;33m[\u001b[0m\u001b[1;36m0\u001b[0m\u001b[1;33m]\u001b[0m\u001b[1;33m:\u001b[0m\u001b[0mevent_hs\u001b[0m\u001b[1;33m[\u001b[0m\u001b[1;36m1\u001b[0m\u001b[1;33m]\u001b[0m\u001b[1;33m]\u001b[0m\u001b[1;33m,\u001b[0m \u001b[0mdsize\u001b[0m\u001b[1;33m=\u001b[0m\u001b[1;33m(\u001b[0m\u001b[1;36m3\u001b[0m\u001b[1;33m,\u001b[0m \u001b[1;36m300\u001b[0m\u001b[1;33m)\u001b[0m\u001b[1;33m)\u001b[0m\u001b[1;33m)\u001b[0m\u001b[1;33m\u001b[0m\u001b[1;33m\u001b[0m\u001b[0m\n\u001b[0m",
      "\u001b[1;31mNameError\u001b[0m: name 'acc_norm' is not defined"
     ]
    }
   ],
   "source": [
    "np.transpose(cv2.resize(acc_norm[event_hs[0]:event_hs[1]], dsize=(3, 300)))"
   ]
  },
  {
   "cell_type": "code",
   "execution_count": 23,
   "id": "d641a71b",
   "metadata": {},
   "outputs": [
    {
     "ename": "AttributeError",
     "evalue": "'numpy.ndarray' object has no attribute 'ToTensor'",
     "output_type": "error",
     "traceback": [
      "\u001b[1;31m---------------------------------------------------------------------------\u001b[0m",
      "\u001b[1;31mAttributeError\u001b[0m                            Traceback (most recent call last)",
      "\u001b[1;32m~\\AppData\\Local\\Temp\\ipykernel_5748\\483884191.py\u001b[0m in \u001b[0;36m<module>\u001b[1;34m\u001b[0m\n\u001b[1;32m----> 1\u001b[1;33m \u001b[0minputs_acc\u001b[0m\u001b[1;33m[\u001b[0m\u001b[1;36m0\u001b[0m\u001b[1;33m]\u001b[0m\u001b[1;33m.\u001b[0m\u001b[0mToTensor\u001b[0m\u001b[1;33m(\u001b[0m\u001b[1;33m)\u001b[0m\u001b[1;33m\u001b[0m\u001b[1;33m\u001b[0m\u001b[0m\n\u001b[0m",
      "\u001b[1;31mAttributeError\u001b[0m: 'numpy.ndarray' object has no attribute 'ToTensor'"
     ]
    }
   ],
   "source": []
  },
  {
   "cell_type": "code",
   "execution_count": null,
   "id": "eead44bf",
   "metadata": {},
   "outputs": [],
   "source": []
  },
  {
   "cell_type": "code",
   "execution_count": null,
   "id": "86a92d71",
   "metadata": {},
   "outputs": [],
   "source": []
  },
  {
   "cell_type": "code",
   "execution_count": 28,
   "id": "101284f4",
   "metadata": {},
   "outputs": [],
   "source": [
    "\n",
    "import torch\n",
    "from torch.utils.data import Dataset, DataLoader, random_split\n",
    "import torch.nn as nn"
   ]
  },
  {
   "cell_type": "code",
   "execution_count": 128,
   "id": "4128b235",
   "metadata": {},
   "outputs": [],
   "source": [
    "input_size = 300\n",
    "hidden_size = 64\n",
    "num_layers = 1"
   ]
  },
  {
   "cell_type": "code",
   "execution_count": 215,
   "id": "5d016bfa",
   "metadata": {},
   "outputs": [],
   "source": [
    "device = torch.device('cuda:0' if torch.cuda.is_available else 'cpu')\n",
    "\n",
    "lstm_acc = nn.LSTM(input_size, hidden_size, num_layers, batch_first=True)\n",
    "lstm_gyr = nn.LSTM(input_size, hidden_size, num_layers, batch_first=True)\n",
    "lstm_acc_b = nn.LSTM(input_size, hidden_size, num_layers, batch_first=False)\n",
    "lstm_gyr_b = nn.LSTM(input_size, hidden_size, num_layers, batch_first=False)"
   ]
  },
  {
   "cell_type": "code",
   "execution_count": 282,
   "id": "dd7434ed",
   "metadata": {},
   "outputs": [],
   "source": [
    "acc = torch.rand(16, 3, 300)\n",
    "gyr = torch.rand(16, 3, 300)\n",
    "acc_b = torch.rand(3, 16, 300)\n",
    "gyr_b = torch.rand(3, 16, 300)"
   ]
  },
  {
   "cell_type": "code",
   "execution_count": 283,
   "id": "98cd96b2",
   "metadata": {},
   "outputs": [],
   "source": [
    "o_acc, (h_acc, _) = lstm_acc(acc)\n",
    "o_gyr, (h_gyr, _) = lstm_gyr(gyr)\n",
    "o_acc_b, (h_acc_b, _) = lstm_acc_b(acc_b)\n",
    "o_gyr_b, (h_gyr_b, _) = lstm_gyr_b(gyr_b)"
   ]
  },
  {
   "cell_type": "code",
   "execution_count": 292,
   "id": "cf0868be",
   "metadata": {},
   "outputs": [
    {
     "name": "stdout",
     "output_type": "stream",
     "text": [
      "torch.Size([16, 3, 64])\n",
      "torch.Size([16, 64, 1])\n"
     ]
    }
   ],
   "source": [
    "merged_state = torch.cat([s for s in h_acc], 1)\n",
    "merged_state = merged_state.squeeze(0).unsqueeze(2)\n",
    "print(o_acc.shape)\n",
    "print(merged_state.shape)"
   ]
  },
  {
   "cell_type": "code",
   "execution_count": 273,
   "id": "764b2176",
   "metadata": {},
   "outputs": [
    {
     "name": "stdout",
     "output_type": "stream",
     "text": [
      "torch.Size([16, 64])\n"
     ]
    }
   ],
   "source": [
    "merged_state_b = torch.cat([s for s in h_b], 1)\n",
    "print(merged_state_b.shape)"
   ]
  },
  {
   "cell_type": "code",
   "execution_count": 274,
   "id": "d241142e",
   "metadata": {},
   "outputs": [
    {
     "name": "stdout",
     "output_type": "stream",
     "text": [
      "torch.Size([16, 64, 1])\n"
     ]
    }
   ],
   "source": [
    "merged_state_b = merged_state_b.squeeze(0).unsqueeze(2)\n",
    "print(merged_state_b.shape)"
   ]
  },
  {
   "cell_type": "code",
   "execution_count": 235,
   "id": "0f6a94fc",
   "metadata": {},
   "outputs": [
    {
     "name": "stdout",
     "output_type": "stream",
     "text": [
      "torch.Size([16, 64])\n"
     ]
    }
   ],
   "source": [
    "merged_state = torch.cat([s for s in h], 1)\n",
    "print(merged_state.shape)"
   ]
  },
  {
   "cell_type": "code",
   "execution_count": 236,
   "id": "453f311f",
   "metadata": {},
   "outputs": [
    {
     "name": "stdout",
     "output_type": "stream",
     "text": [
      "torch.Size([16, 64, 1])\n"
     ]
    }
   ],
   "source": [
    "merged_state = merged_state.squeeze(0).unsqueeze(2)\n",
    "print(merged_state.shape)"
   ]
  },
  {
   "cell_type": "code",
   "execution_count": 222,
   "id": "87619f70",
   "metadata": {},
   "outputs": [
    {
     "data": {
      "text/plain": [
       "torch.Size([16, 3, 128])"
      ]
     },
     "execution_count": 222,
     "metadata": {},
     "output_type": "execute_result"
    }
   ],
   "source": [
    "o_concat.shape"
   ]
  },
  {
   "cell_type": "code",
   "execution_count": 293,
   "id": "bbd33bcc",
   "metadata": {},
   "outputs": [
    {
     "name": "stdout",
     "output_type": "stream",
     "text": [
      "torch.Size([16, 3, 128])\n",
      "torch.Size([16, 128, 1])\n"
     ]
    }
   ],
   "source": [
    "h_concat = torch.cat((h_acc.view(-1, 64), h_gyr.view(-1, 64)), dim=1)\n",
    "h_concat = h_concat.squeeze(0).unsqueeze(2)\n",
    "\n",
    "o_concat = torch.cat((o_acc, o_gyr), dim=2)\n",
    "print(o_concat.size())\n",
    "print(h_concat.size())"
   ]
  },
  {
   "cell_type": "code",
   "execution_count": 278,
   "id": "d0cbb80e",
   "metadata": {},
   "outputs": [
    {
     "data": {
      "text/plain": [
       "torch.Size([16, 3, 1])"
      ]
     },
     "execution_count": 278,
     "metadata": {},
     "output_type": "execute_result"
    }
   ],
   "source": [
    "weights = torch.bmm(o_concat, merged_state)\n",
    "weights = F.softmax(weights.squeeze(2), dim=1).unsqueeze(2)\n",
    "weights.shape"
   ]
  },
  {
   "cell_type": "code",
   "execution_count": 280,
   "id": "95b971d1",
   "metadata": {},
   "outputs": [
    {
     "data": {
      "text/plain": [
       "torch.Size([16, 64])"
      ]
     },
     "execution_count": 280,
     "metadata": {},
     "output_type": "execute_result"
    }
   ],
   "source": [
    "torch.bmm(torch.transpose(lstm_output, 1, 2), weights).squeeze(2).shape"
   ]
  },
  {
   "cell_type": "code",
   "execution_count": 268,
   "id": "a29d87fb",
   "metadata": {},
   "outputs": [
    {
     "data": {
      "text/plain": [
       "torch.Size([16, 3, 1])"
      ]
     },
     "execution_count": 268,
     "metadata": {},
     "output_type": "execute_result"
    }
   ],
   "source": [
    "import torch.nn.functional as F\n",
    "weights = F.softmax(weights.squeeze(2), dim=1).unsqueeze(2)\n",
    "weights.shape"
   ]
  },
  {
   "cell_type": "code",
   "execution_count": 269,
   "id": "6a80a9ae",
   "metadata": {},
   "outputs": [
    {
     "data": {
      "text/plain": [
       "torch.Size([16, 64])"
      ]
     },
     "execution_count": 269,
     "metadata": {},
     "output_type": "execute_result"
    }
   ],
   "source": [
    "torch.bmm(torch.transpose(lstm_output, 1, 2), weights).squeeze(2).shape"
   ]
  },
  {
   "cell_type": "code",
   "execution_count": 237,
   "id": "b134c207",
   "metadata": {},
   "outputs": [
    {
     "name": "stdout",
     "output_type": "stream",
     "text": [
      "torch.Size([16, 128])\n"
     ]
    },
    {
     "data": {
      "text/plain": [
       "torch.Size([16, 3, 128])"
      ]
     },
     "execution_count": 237,
     "metadata": {},
     "output_type": "execute_result"
    }
   ],
   "source": [
    "print(h_concat.size())\n",
    "o_concat.size()"
   ]
  },
  {
   "cell_type": "code",
   "execution_count": null,
   "id": "b476a0fe",
   "metadata": {},
   "outputs": [],
   "source": []
  },
  {
   "cell_type": "code",
   "execution_count": 181,
   "id": "f2f2a569",
   "metadata": {},
   "outputs": [],
   "source": [
    "o, (h, c) = lstm_acc(acc)\n",
    "o_b, (h_b, c_b) = lstm_acc_b(acc_b)"
   ]
  },
  {
   "cell_type": "code",
   "execution_count": 198,
   "id": "4a32a95e",
   "metadata": {},
   "outputs": [],
   "source": [
    "o_b, (h_b, c_b) = lstm_acc_b(acc_b)\n",
    "o_b2, (h_b2, c_b) = lstm_acc_b(acc_b)"
   ]
  },
  {
   "cell_type": "code",
   "execution_count": 200,
   "id": "f9216b6b",
   "metadata": {},
   "outputs": [
    {
     "data": {
      "text/plain": [
       "torch.Size([16, 128])"
      ]
     },
     "execution_count": 200,
     "metadata": {},
     "output_type": "execute_result"
    }
   ],
   "source": [
    "inputs_concat = torch.cat((h_b.view(-1, hidden_size), h_b2.view(-1, hidden_size)), dim=1)\n",
    "inputs_concat.shape"
   ]
  },
  {
   "cell_type": "code",
   "execution_count": 197,
   "id": "a772a2b2",
   "metadata": {},
   "outputs": [
    {
     "data": {
      "text/plain": [
       "torch.Size([16, 6, 64])"
      ]
     },
     "execution_count": 197,
     "metadata": {},
     "output_type": "execute_result"
    }
   ],
   "source": [
    "torch.cat((o_b, o_b2), dim=1).shape"
   ]
  },
  {
   "cell_type": "code",
   "execution_count": 177,
   "id": "7c9b7a58",
   "metadata": {
    "scrolled": true
   },
   "outputs": [
    {
     "data": {
      "text/plain": [
       "torch.Size([16, 3, 64])"
      ]
     },
     "execution_count": 177,
     "metadata": {},
     "output_type": "execute_result"
    }
   ],
   "source": [
    "lstm_output = o.permute(1, 0, 2)\n",
    "lstm_output.shape"
   ]
  },
  {
   "cell_type": "code",
   "execution_count": 182,
   "id": "e23e0a29",
   "metadata": {},
   "outputs": [
    {
     "data": {
      "text/plain": [
       "torch.Size([3, 16, 64])"
      ]
     },
     "execution_count": 182,
     "metadata": {},
     "output_type": "execute_result"
    }
   ],
   "source": [
    "lstm_output_b = o_b.permute(1, 0, 2)\n",
    "lstm_output_b.shape"
   ]
  },
  {
   "cell_type": "code",
   "execution_count": 183,
   "id": "051d2661",
   "metadata": {},
   "outputs": [
    {
     "data": {
      "text/plain": [
       "torch.Size([16, 3, 64])"
      ]
     },
     "execution_count": 183,
     "metadata": {},
     "output_type": "execute_result"
    }
   ],
   "source": [
    "o_b.shape"
   ]
  },
  {
   "cell_type": "code",
   "execution_count": 192,
   "id": "ddcb217a",
   "metadata": {},
   "outputs": [
    {
     "data": {
      "text/plain": [
       "tensor([[ 0.0672, -0.1405,  0.2171,  ..., -0.3264, -0.2252, -0.3084],\n",
       "        [ 0.0159, -0.1446,  0.0407,  ..., -0.2660, -0.1436, -0.3754],\n",
       "        [-0.0353, -0.1541,  0.1663,  ..., -0.2578, -0.1564, -0.2903],\n",
       "        ...,\n",
       "        [ 0.0835, -0.1752,  0.3282,  ..., -0.2973, -0.1964, -0.1967],\n",
       "        [ 0.0784, -0.1394,  0.1897,  ..., -0.3549, -0.1552, -0.5321],\n",
       "        [-0.0118, -0.1860,  0.2510,  ..., -0.3565, -0.2410, -0.2302]],\n",
       "       grad_fn=<CatBackward0>)"
      ]
     },
     "execution_count": 192,
     "metadata": {},
     "output_type": "execute_result"
    }
   ],
   "source": [
    "torch.cat([s for s in h], 1)"
   ]
  },
  {
   "cell_type": "code",
   "execution_count": 193,
   "id": "4e9bc9df",
   "metadata": {},
   "outputs": [
    {
     "data": {
      "text/plain": [
       "tensor([[-0.0646, -0.1905,  0.1258,  ..., -0.1582,  0.1055, -0.1914],\n",
       "        [-0.0287, -0.1310,  0.1638,  ...,  0.1235,  0.1156, -0.2167],\n",
       "        [-0.1622, -0.0952,  0.1103,  ...,  0.1855,  0.0767, -0.0975],\n",
       "        ...,\n",
       "        [-0.2571, -0.1738,  0.0942,  ..., -0.1008,  0.0236, -0.1102],\n",
       "        [-0.0966, -0.1443,  0.1295,  ...,  0.2624,  0.0552, -0.0401],\n",
       "        [-0.3418, -0.1613,  0.0885,  ...,  0.2009,  0.0649, -0.0290]],\n",
       "       grad_fn=<CatBackward0>)"
      ]
     },
     "execution_count": 193,
     "metadata": {},
     "output_type": "execute_result"
    }
   ],
   "source": [
    "torch.cat([s for s in h_b], 1)"
   ]
  },
  {
   "cell_type": "code",
   "execution_count": 184,
   "id": "75c4b4c0",
   "metadata": {},
   "outputs": [
    {
     "name": "stdout",
     "output_type": "stream",
     "text": [
      "torch.Size([16, 64, 1])\n"
     ]
    }
   ],
   "source": [
    "merged_state = torch.cat([s for s in h], 1)\n",
    "merged_state = merged_state.squeeze(0).unsqueeze(2)\n",
    "print(merged_state.shape)"
   ]
  },
  {
   "cell_type": "code",
   "execution_count": 185,
   "id": "fa7279b3",
   "metadata": {},
   "outputs": [
    {
     "name": "stdout",
     "output_type": "stream",
     "text": [
      "torch.Size([16, 64, 1])\n"
     ]
    }
   ],
   "source": [
    "merged_state_b = torch.cat([s for s in h_b], 1)\n",
    "merged_state_b = merged_state_b.squeeze(0).unsqueeze(2)\n",
    "print(merged_state_b.shape)"
   ]
  },
  {
   "cell_type": "code",
   "execution_count": 187,
   "id": "d0cfd4c2",
   "metadata": {},
   "outputs": [
    {
     "ename": "RuntimeError",
     "evalue": "Expected size for first two dimensions of batch2 tensor to be: [3, 64] but got: [16, 64].",
     "output_type": "error",
     "traceback": [
      "\u001b[1;31m---------------------------------------------------------------------------\u001b[0m",
      "\u001b[1;31mRuntimeError\u001b[0m                              Traceback (most recent call last)",
      "\u001b[1;32m~\\AppData\\Local\\Temp\\ipykernel_5748\\3767547513.py\u001b[0m in \u001b[0;36m<module>\u001b[1;34m\u001b[0m\n\u001b[1;32m----> 1\u001b[1;33m \u001b[0mweights\u001b[0m \u001b[1;33m=\u001b[0m \u001b[0mtorch\u001b[0m\u001b[1;33m.\u001b[0m\u001b[0mbmm\u001b[0m\u001b[1;33m(\u001b[0m\u001b[0mlstm_output_b\u001b[0m\u001b[1;33m,\u001b[0m \u001b[0mmerged_state_b\u001b[0m\u001b[1;33m)\u001b[0m\u001b[1;33m\u001b[0m\u001b[1;33m\u001b[0m\u001b[0m\n\u001b[0m",
      "\u001b[1;31mRuntimeError\u001b[0m: Expected size for first two dimensions of batch2 tensor to be: [3, 64] but got: [16, 64]."
     ]
    }
   ],
   "source": [
    "weights = torch.bmm(lstm_output_b, merged_state_b)"
   ]
  },
  {
   "cell_type": "code",
   "execution_count": null,
   "id": "1b6bb5cf",
   "metadata": {},
   "outputs": [],
   "source": []
  },
  {
   "cell_type": "code",
   "execution_count": 156,
   "id": "928a2677",
   "metadata": {},
   "outputs": [
    {
     "ename": "IndexError",
     "evalue": "Dimension out of range (expected to be in range of [-2, 1], but got 2)",
     "output_type": "error",
     "traceback": [
      "\u001b[1;31m---------------------------------------------------------------------------\u001b[0m",
      "\u001b[1;31mIndexError\u001b[0m                                Traceback (most recent call last)",
      "\u001b[1;32m~\\AppData\\Local\\Temp\\ipykernel_5748\\461048476.py\u001b[0m in \u001b[0;36m<module>\u001b[1;34m\u001b[0m\n\u001b[1;32m----> 1\u001b[1;33m \u001b[0mmerged_state\u001b[0m \u001b[1;33m=\u001b[0m \u001b[0mmerged_state\u001b[0m\u001b[1;33m.\u001b[0m\u001b[0msqueeze\u001b[0m\u001b[1;33m(\u001b[0m\u001b[1;36m0\u001b[0m\u001b[1;33m)\u001b[0m\u001b[1;33m.\u001b[0m\u001b[0munsqueeze\u001b[0m\u001b[1;33m(\u001b[0m\u001b[1;36m2\u001b[0m\u001b[1;33m)\u001b[0m\u001b[1;33m\u001b[0m\u001b[1;33m\u001b[0m\u001b[0m\n\u001b[0m",
      "\u001b[1;31mIndexError\u001b[0m: Dimension out of range (expected to be in range of [-2, 1], but got 2)"
     ]
    }
   ],
   "source": [
    "merged_state = merged_state.squeeze(0).unsqueeze(2)"
   ]
  },
  {
   "cell_type": "code",
   "execution_count": 160,
   "id": "6d0f17d2",
   "metadata": {},
   "outputs": [],
   "source": [
    "dfd = merged_state.squeeze(0)"
   ]
  },
  {
   "cell_type": "code",
   "execution_count": 110,
   "id": "cd4d48d6",
   "metadata": {
    "scrolled": true
   },
   "outputs": [
    {
     "data": {
      "text/plain": [
       "tensor([[[ 0.0467,  0.2502, -0.3966, -0.4063,  0.0869,  0.3269, -0.1805,\n",
       "           0.0068, -0.0065,  0.0809, -0.2384,  0.2365, -0.1656, -0.0945,\n",
       "           0.3274, -0.2514,  0.5339,  0.0490,  0.3319,  0.8629, -0.3669,\n",
       "           0.2195,  0.1291,  0.3327, -0.2361,  0.0111, -0.3566, -0.3012,\n",
       "           0.0670, -0.0677,  0.0730, -0.6965, -0.0953,  0.2998,  0.4359,\n",
       "           0.0757, -0.0779, -0.1348,  0.1259,  0.6244,  0.2163, -0.0141,\n",
       "          -0.3455,  0.0408,  0.2657, -0.1382, -0.0076,  0.4894,  0.4581,\n",
       "          -0.3611,  0.1634, -0.0131,  0.0924,  0.2453, -0.1420,  0.3861,\n",
       "          -0.4088,  0.8190,  0.4359,  0.0234, -0.2285,  0.1359, -0.1687,\n",
       "           0.3692]]], grad_fn=<StackBackward0>)"
      ]
     },
     "execution_count": 110,
     "metadata": {},
     "output_type": "execute_result"
    }
   ],
   "source": [
    "c_n"
   ]
  },
  {
   "cell_type": "code",
   "execution_count": 87,
   "id": "d4df4fc4",
   "metadata": {},
   "outputs": [
    {
     "name": "stdout",
     "output_type": "stream",
     "text": [
      "torch.Size([300, 64])\n",
      "torch.Size([300])\n"
     ]
    }
   ],
   "source": [
    "print(o.shape)\n",
    "print(o[:,-1].shape)"
   ]
  },
  {
   "cell_type": "code",
   "execution_count": 93,
   "id": "f7ddeb23",
   "metadata": {},
   "outputs": [
    {
     "name": "stdout",
     "output_type": "stream",
     "text": [
      "[2, 3]\n",
      "[2, 7]\n",
      "[2, 5]\n",
      "[4, 3]\n",
      "[4, 7]\n",
      "[4, 5]\n"
     ]
    }
   ],
   "source": [
    "sentences = [\"i like dog\", \"i love coffee\", \"i hate milk\", \"you like cat\", \"you love milk\", \"you hate coffee\"]\n",
    "word_list = list(set(\" \".join(sentences).split()))\n",
    "word_dict = {w: i for i, w in enumerate(word_list)}\n",
    "for sen in sentences:\n",
    "    word = sen.split()\n",
    "    input = [word_dict[n] for n in word[:-1]]\n",
    "    print(input)\n",
    "\n"
   ]
  }
 ],
 "metadata": {
  "kernelspec": {
   "display_name": "gait",
   "language": "python",
   "name": "gait"
  },
  "language_info": {
   "codemirror_mode": {
    "name": "ipython",
    "version": 3
   },
   "file_extension": ".py",
   "mimetype": "text/x-python",
   "name": "python",
   "nbconvert_exporter": "python",
   "pygments_lexer": "ipython3",
   "version": "3.7.11"
  }
 },
 "nbformat": 4,
 "nbformat_minor": 5
}
