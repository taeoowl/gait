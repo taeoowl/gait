{
 "cells": [
  {
   "cell_type": "markdown",
   "id": "9df66cc3",
   "metadata": {},
   "source": [
    "# Salted"
   ]
  },
  {
   "cell_type": "code",
   "execution_count": 28,
   "id": "65c1e714",
   "metadata": {},
   "outputs": [],
   "source": [
    "import pandas as pd\n",
    "import numpy as np\n",
    "import matplotlib.pyplot as plt\n",
    "\n",
    "import scipy\n",
    "from scipy.ndimage import gaussian_filter1d\n",
    "from sklearn.preprocessing import MinMaxScaler, StandardScaler\n",
    "\n",
    "import torch\n",
    "from torch.utils.data import Dataset, DataLoader, random_split\n",
    "\n",
    "import os \n",
    "import glob\n",
    "import cv2\n",
    "import itertools"
   ]
  },
  {
   "cell_type": "code",
   "execution_count": 29,
   "id": "72063f60",
   "metadata": {},
   "outputs": [],
   "source": [
    "class Gait_Dataset_Salted(Dataset):\n",
    "    def __init__(self, file_path):\n",
    "        self.file_path = file_path\n",
    "        self.inputs_acc, self.inputs_gyr, self.stride_length = get_sensor_salted(file_path)\n",
    "\n",
    "    def __len__(self) :\n",
    "        return len(self.inputs_acc)\n",
    "    \n",
    "    def __getitem__(self, idx):\n",
    "        return self.inputs_acc[idx], self.inputs_gyr[idx], self.stride_length[idx]"
   ]
  },
  {
   "cell_type": "code",
   "execution_count": 75,
   "id": "b72c79f4",
   "metadata": {},
   "outputs": [],
   "source": [
    "def get_event_salted(file_path):\n",
    "    \n",
    "    df = pd.read_csv(file_path, skiprows=2)\n",
    "    \n",
    "    # 압력값 불러오기\n",
    "    prs = df.filter(regex=\"R_value\")\n",
    "    prs_mean = np.mean(prs.iloc[:, 0:4], axis=1) \n",
    "    \n",
    "    # Gaussian Filter : Smoothing pressure data\n",
    "    prs_mean_gf = pd.Series(scipy.ndimage.gaussian_filter1d(prs_mean, 2))\n",
    "    \n",
    "    # Level Shift \n",
    "    lev_idx = prs_mean_gf > 2 # 가우시안 필터로 인해 0이 아닌 값으로 threshold 설정\n",
    "    prs_lev = lev_idx.map(lambda x : 1 if x else 0)\n",
    "    \n",
    "    # HS, TO Index 추출\n",
    "    event_idx = []\n",
    "    for i in range(len(prs_lev)-1):\n",
    "        if (prs_lev[i] - prs_lev[i+1]) != 0:\n",
    "            event_idx.append(i)\n",
    "            \n",
    "    # HS 이벤트가 먼저 시작하도록 : 나중에 lev shift를 통해 구하는 방법으로 변경하는 것도 괜찮을 듯\n",
    "    if np.diff(event_idx)[0] < np.diff(event_idx)[1]: # Swing Phase가 Stand Phase보다 길다는 것을 가정 : 장애 데이터에서도 확인 필요\n",
    "        del event_idx[0]\n",
    "    \n",
    "    \n",
    "    return event_idx\n",
    "\n",
    "def get_sensor_salted(file_path, normalization=True):\n",
    "    inputs_acc = []\n",
    "    inputs_gyr = []\n",
    "    stride_length = []\n",
    "    for file_name in glob.glob(file_path):\n",
    "        df = pd.read_csv(file_name, skiprows=2)\n",
    "        acc = df.filter(regex=\"R_ACC\")\n",
    "        gyr = df.filter(regex=\"R_GYRO\")\n",
    "        event_idx = get_event_salted(file_name)\n",
    "\n",
    "        # HS 이벤트 추출\n",
    "        event_hs = event_idx[0::2]\n",
    "\n",
    "        # m/s^2 단위 변환\n",
    "        acc = (acc / 1000) * 9.8066\n",
    "    #     acc_z = acc_z - np.mean(acc_z) # z축(상하)에 적용되는 중력가속도 제거 : 추가확인 필요\n",
    "\n",
    "        # Normalization\n",
    "        if normalization == True:\n",
    "            scaler = MinMaxScaler()\n",
    "            acc_norm = scaler.fit_transform(acc)\n",
    "            gyr_norm = scaler.fit_transform(gyr)\n",
    "\n",
    "        # 가속도와 자이로 센서 값\n",
    "        for i in range(1, len(event_hs)):\n",
    "            if normalization == True:\n",
    "                inputs_acc.append(np.transpose(cv2.resize(acc_norm[event_hs[i-1]:event_hs[i]], dsize=(3, 300))))\n",
    "                inputs_gyr.append(np.transpose(cv2.resize(gyr_norm[event_hs[i-1]:event_hs[i]], dsize=(3, 300))))\n",
    "            else:\n",
    "                inputs_acc.append(np.transpose(acc[event_hs[i-1]:event_hs[i]]))\n",
    "                inputs_gyr.append(np.transpose(gyr[event_hs[i-1]:event_hs[i]]))\n",
    "\n",
    "            #             inputs_gyr.append(acc_norm[event_hs[i-1]:event_hs[i]])\n",
    "    \n",
    "        if '3km' in file_name:\n",
    "            stride_length.append(np.diff(event_hs) * (3000/3600))\n",
    "        elif '4km' in file_name:\n",
    "            stride_length.append(np.diff(event_hs) * (4000/3600))\n",
    "        else:\n",
    "            stride_length.append(np.diff(event_hs) * (5000/3600))\n",
    "            \n",
    "    stride_length = np.round(np.array(list(itertools.chain.from_iterable(stride_length))), 3)\n",
    "    \n",
    "    return inputs_acc, inputs_gyr, stride_length\n",
    "\n",
    "\n",
    "def get_distance_salted(file_path):\n",
    "    inputs_acc, inputs_gyr, stride_length = get_sensor_salted(file_path, normalization=False)\n",
    "    for i in range(len(inputs_acc)):\n",
    "        inputs_acc"
   ]
  },
  {
   "cell_type": "code",
   "execution_count": 102,
   "id": "e442eaa7",
   "metadata": {},
   "outputs": [],
   "source": [
    "file_path = \"D:\\gait_dataset/salted/*\""
   ]
  },
  {
   "cell_type": "code",
   "execution_count": 103,
   "id": "0f86d357",
   "metadata": {},
   "outputs": [],
   "source": [
    "inputs_acc, inputs_gyr, stride_length = get_sensor_salted(file_path, normalization=False)"
   ]
  },
  {
   "cell_type": "code",
   "execution_count": 105,
   "id": "8bc8fcb5",
   "metadata": {
    "scrolled": false
   },
   "outputs": [
    {
     "data": {
      "text/html": [
       "<div>\n",
       "<style scoped>\n",
       "    .dataframe tbody tr th:only-of-type {\n",
       "        vertical-align: middle;\n",
       "    }\n",
       "\n",
       "    .dataframe tbody tr th {\n",
       "        vertical-align: top;\n",
       "    }\n",
       "\n",
       "    .dataframe thead th {\n",
       "        text-align: right;\n",
       "    }\n",
       "</style>\n",
       "<table border=\"1\" class=\"dataframe\">\n",
       "  <thead>\n",
       "    <tr style=\"text-align: right;\">\n",
       "      <th></th>\n",
       "      <th>R_ACC_X</th>\n",
       "      <th>R_ACC_Y</th>\n",
       "      <th>R_ACC_Z</th>\n",
       "    </tr>\n",
       "  </thead>\n",
       "  <tbody>\n",
       "    <tr>\n",
       "      <th>0</th>\n",
       "      <td>-2.226098</td>\n",
       "      <td>22.555180</td>\n",
       "      <td>-10.306737</td>\n",
       "    </tr>\n",
       "    <tr>\n",
       "      <th>1</th>\n",
       "      <td>-1.333698</td>\n",
       "      <td>22.829765</td>\n",
       "      <td>-10.934359</td>\n",
       "    </tr>\n",
       "    <tr>\n",
       "      <th>2</th>\n",
       "      <td>-0.657042</td>\n",
       "      <td>6.609648</td>\n",
       "      <td>-11.316816</td>\n",
       "    </tr>\n",
       "    <tr>\n",
       "      <th>3</th>\n",
       "      <td>-2.539909</td>\n",
       "      <td>-2.569329</td>\n",
       "      <td>-8.070832</td>\n",
       "    </tr>\n",
       "    <tr>\n",
       "      <th>4</th>\n",
       "      <td>-3.030239</td>\n",
       "      <td>-4.040319</td>\n",
       "      <td>-10.708807</td>\n",
       "    </tr>\n",
       "    <tr>\n",
       "      <th>...</th>\n",
       "      <td>...</td>\n",
       "      <td>...</td>\n",
       "      <td>...</td>\n",
       "    </tr>\n",
       "    <tr>\n",
       "      <th>126</th>\n",
       "      <td>0.764915</td>\n",
       "      <td>20.074110</td>\n",
       "      <td>-11.679661</td>\n",
       "    </tr>\n",
       "    <tr>\n",
       "      <th>127</th>\n",
       "      <td>0.794335</td>\n",
       "      <td>21.692199</td>\n",
       "      <td>-9.796793</td>\n",
       "    </tr>\n",
       "    <tr>\n",
       "      <th>128</th>\n",
       "      <td>0.254972</td>\n",
       "      <td>22.829765</td>\n",
       "      <td>-9.228011</td>\n",
       "    </tr>\n",
       "    <tr>\n",
       "      <th>129</th>\n",
       "      <td>0.666849</td>\n",
       "      <td>24.330175</td>\n",
       "      <td>-10.591128</td>\n",
       "    </tr>\n",
       "    <tr>\n",
       "      <th>130</th>\n",
       "      <td>2.128032</td>\n",
       "      <td>24.369401</td>\n",
       "      <td>-8.610195</td>\n",
       "    </tr>\n",
       "  </tbody>\n",
       "</table>\n",
       "<p>131 rows × 3 columns</p>\n",
       "</div>"
      ],
      "text/plain": [
       "      R_ACC_X    R_ACC_Y    R_ACC_Z\n",
       "0   -2.226098  22.555180 -10.306737\n",
       "1   -1.333698  22.829765 -10.934359\n",
       "2   -0.657042   6.609648 -11.316816\n",
       "3   -2.539909  -2.569329  -8.070832\n",
       "4   -3.030239  -4.040319 -10.708807\n",
       "..        ...        ...        ...\n",
       "126  0.764915  20.074110 -11.679661\n",
       "127  0.794335  21.692199  -9.796793\n",
       "128  0.254972  22.829765  -9.228011\n",
       "129  0.666849  24.330175 -10.591128\n",
       "130  2.128032  24.369401  -8.610195\n",
       "\n",
       "[131 rows x 3 columns]"
      ]
     },
     "execution_count": 105,
     "metadata": {},
     "output_type": "execute_result"
    }
   ],
   "source": [
    "np.transpose(inputs_acc[0]).reset_index(drop=True)"
   ]
  },
  {
   "cell_type": "code",
   "execution_count": null,
   "id": "8a792ba5",
   "metadata": {},
   "outputs": [],
   "source": [
    "acc_x[i] + acc_x[i+1]"
   ]
  },
  {
   "cell_type": "code",
   "execution_count": 111,
   "id": "fc4a8e27",
   "metadata": {},
   "outputs": [],
   "source": [
    "stride_ex = np.transpose(inputs_acc[0]).reset_index(drop=True)"
   ]
  },
  {
   "cell_type": "code",
   "execution_count": 117,
   "id": "83fdc7a9",
   "metadata": {},
   "outputs": [
    {
     "data": {
      "text/plain": [
       "R_ACC_X   -0.017799\n",
       "R_ACC_Y    0.226925\n",
       "R_ACC_Z   -0.106205\n",
       "dtype: float64"
      ]
     },
     "execution_count": 117,
     "metadata": {},
     "output_type": "execute_result"
    }
   ],
   "source": [
    "sp1 = 0.5*(stride_ex.iloc[0] + stride_ex.iloc[1])*(1/100)\n",
    "sp1"
   ]
  },
  {
   "cell_type": "code",
   "execution_count": 118,
   "id": "4c8aad7b",
   "metadata": {},
   "outputs": [
    {
     "data": {
      "text/plain": [
       "R_ACC_X   -0.009954\n",
       "R_ACC_Y    0.147197\n",
       "R_ACC_Z   -0.111256\n",
       "dtype: float64"
      ]
     },
     "execution_count": 118,
     "metadata": {},
     "output_type": "execute_result"
    }
   ],
   "source": [
    "sp2 = 0.5*(stride_ex.iloc[1] + stride_ex.iloc[2])*(1/100)\n",
    "sp2"
   ]
  },
  {
   "cell_type": "code",
   "execution_count": 119,
   "id": "8567aaa5",
   "metadata": {},
   "outputs": [
    {
     "data": {
      "text/plain": [
       "R_ACC_X   -0.027753\n",
       "R_ACC_Y    0.374122\n",
       "R_ACC_Z   -0.217461\n",
       "dtype: float64"
      ]
     },
     "execution_count": 119,
     "metadata": {},
     "output_type": "execute_result"
    }
   ],
   "source": [
    "sp1+sp2"
   ]
  },
  {
   "cell_type": "code",
   "execution_count": null,
   "id": "99d4724b",
   "metadata": {},
   "outputs": [],
   "source": [
    "for i in range(len(inputs_acc[0])):\n",
    "    itg = itg + 0.5*(acc.iloc[i] + acc.iloc[1+1])*(1/100) #적분값\n",
    "    sp =\n",
    "    sp = pd.concat([sp, itg], axis=1)"
   ]
  },
  {
   "cell_type": "code",
   "execution_count": 125,
   "id": "e2525d02",
   "metadata": {},
   "outputs": [
    {
     "data": {
      "text/html": [
       "<div>\n",
       "<style scoped>\n",
       "    .dataframe tbody tr th:only-of-type {\n",
       "        vertical-align: middle;\n",
       "    }\n",
       "\n",
       "    .dataframe tbody tr th {\n",
       "        vertical-align: top;\n",
       "    }\n",
       "\n",
       "    .dataframe thead th {\n",
       "        text-align: right;\n",
       "    }\n",
       "</style>\n",
       "<table border=\"1\" class=\"dataframe\">\n",
       "  <thead>\n",
       "    <tr style=\"text-align: right;\">\n",
       "      <th></th>\n",
       "      <th>0</th>\n",
       "      <th>1</th>\n",
       "    </tr>\n",
       "  </thead>\n",
       "  <tbody>\n",
       "    <tr>\n",
       "      <th>R_ACC_X</th>\n",
       "      <td>-0.017799</td>\n",
       "      <td>-0.009954</td>\n",
       "    </tr>\n",
       "    <tr>\n",
       "      <th>R_ACC_Y</th>\n",
       "      <td>0.226925</td>\n",
       "      <td>0.147197</td>\n",
       "    </tr>\n",
       "    <tr>\n",
       "      <th>R_ACC_Z</th>\n",
       "      <td>-0.106205</td>\n",
       "      <td>-0.111256</td>\n",
       "    </tr>\n",
       "  </tbody>\n",
       "</table>\n",
       "</div>"
      ],
      "text/plain": [
       "                0         1\n",
       "R_ACC_X -0.017799 -0.009954\n",
       "R_ACC_Y  0.226925  0.147197\n",
       "R_ACC_Z -0.106205 -0.111256"
      ]
     },
     "execution_count": 125,
     "metadata": {},
     "output_type": "execute_result"
    }
   ],
   "source": [
    "pd.concat([sp1, sp2], axis=1)"
   ]
  },
  {
   "cell_type": "code",
   "execution_count": null,
   "id": "114c547e",
   "metadata": {},
   "outputs": [],
   "source": [
    "itg = 0\n",
    "for i in range(len(inputs_acc)):\n",
    "    acc = np.transpose(inputs_acc[i]).reset_index(drop=True)\n",
    "    itg = itg + 0.5*(acc.iloc[0] + acc.iloc[1])*(1/100)\n",
    "    sp =\n",
    "    sp = pd.concat([sp, itg], axis=1)"
   ]
  },
  {
   "cell_type": "code",
   "execution_count": 104,
   "id": "316886d3",
   "metadata": {},
   "outputs": [
    {
     "data": {
      "text/html": [
       "<div>\n",
       "<style scoped>\n",
       "    .dataframe tbody tr th:only-of-type {\n",
       "        vertical-align: middle;\n",
       "    }\n",
       "\n",
       "    .dataframe tbody tr th {\n",
       "        vertical-align: top;\n",
       "    }\n",
       "\n",
       "    .dataframe thead th {\n",
       "        text-align: right;\n",
       "    }\n",
       "</style>\n",
       "<table border=\"1\" class=\"dataframe\">\n",
       "  <thead>\n",
       "    <tr style=\"text-align: right;\">\n",
       "      <th></th>\n",
       "      <th>129</th>\n",
       "      <th>130</th>\n",
       "      <th>131</th>\n",
       "      <th>132</th>\n",
       "      <th>133</th>\n",
       "      <th>134</th>\n",
       "      <th>135</th>\n",
       "      <th>136</th>\n",
       "      <th>137</th>\n",
       "      <th>138</th>\n",
       "      <th>...</th>\n",
       "      <th>250</th>\n",
       "      <th>251</th>\n",
       "      <th>252</th>\n",
       "      <th>253</th>\n",
       "      <th>254</th>\n",
       "      <th>255</th>\n",
       "      <th>256</th>\n",
       "      <th>257</th>\n",
       "      <th>258</th>\n",
       "      <th>259</th>\n",
       "    </tr>\n",
       "  </thead>\n",
       "  <tbody>\n",
       "    <tr>\n",
       "      <th>R_ACC_X</th>\n",
       "      <td>-2.226098</td>\n",
       "      <td>-1.333698</td>\n",
       "      <td>-0.657042</td>\n",
       "      <td>-2.539909</td>\n",
       "      <td>-3.030239</td>\n",
       "      <td>-1.480797</td>\n",
       "      <td>-1.833834</td>\n",
       "      <td>-2.510490</td>\n",
       "      <td>-2.275131</td>\n",
       "      <td>-2.608556</td>\n",
       "      <td>...</td>\n",
       "      <td>-4.893493</td>\n",
       "      <td>-4.050126</td>\n",
       "      <td>-2.579136</td>\n",
       "      <td>-1.108146</td>\n",
       "      <td>0.088259</td>\n",
       "      <td>0.764915</td>\n",
       "      <td>0.794335</td>\n",
       "      <td>0.254972</td>\n",
       "      <td>0.666849</td>\n",
       "      <td>2.128032</td>\n",
       "    </tr>\n",
       "    <tr>\n",
       "      <th>R_ACC_Y</th>\n",
       "      <td>22.555180</td>\n",
       "      <td>22.829765</td>\n",
       "      <td>6.609648</td>\n",
       "      <td>-2.569329</td>\n",
       "      <td>-4.040319</td>\n",
       "      <td>-1.814221</td>\n",
       "      <td>0.088259</td>\n",
       "      <td>0.068646</td>\n",
       "      <td>0.353038</td>\n",
       "      <td>-0.254972</td>\n",
       "      <td>...</td>\n",
       "      <td>10.296930</td>\n",
       "      <td>12.101344</td>\n",
       "      <td>13.994018</td>\n",
       "      <td>16.180890</td>\n",
       "      <td>18.240276</td>\n",
       "      <td>20.074110</td>\n",
       "      <td>21.692199</td>\n",
       "      <td>22.829765</td>\n",
       "      <td>24.330175</td>\n",
       "      <td>24.369401</td>\n",
       "    </tr>\n",
       "    <tr>\n",
       "      <th>R_ACC_Z</th>\n",
       "      <td>-10.306737</td>\n",
       "      <td>-10.934359</td>\n",
       "      <td>-11.316816</td>\n",
       "      <td>-8.070832</td>\n",
       "      <td>-10.708807</td>\n",
       "      <td>-10.689194</td>\n",
       "      <td>-11.130491</td>\n",
       "      <td>-12.542641</td>\n",
       "      <td>-11.826760</td>\n",
       "      <td>-12.209217</td>\n",
       "      <td>...</td>\n",
       "      <td>-21.898138</td>\n",
       "      <td>-20.535020</td>\n",
       "      <td>-18.210856</td>\n",
       "      <td>-15.935725</td>\n",
       "      <td>-13.778273</td>\n",
       "      <td>-11.679661</td>\n",
       "      <td>-9.796793</td>\n",
       "      <td>-9.228011</td>\n",
       "      <td>-10.591128</td>\n",
       "      <td>-8.610195</td>\n",
       "    </tr>\n",
       "  </tbody>\n",
       "</table>\n",
       "<p>3 rows × 131 columns</p>\n",
       "</div>"
      ],
      "text/plain": [
       "               129        130        131       132        133        134  \\\n",
       "R_ACC_X  -2.226098  -1.333698  -0.657042 -2.539909  -3.030239  -1.480797   \n",
       "R_ACC_Y  22.555180  22.829765   6.609648 -2.569329  -4.040319  -1.814221   \n",
       "R_ACC_Z -10.306737 -10.934359 -11.316816 -8.070832 -10.708807 -10.689194   \n",
       "\n",
       "               135        136        137        138  ...        250  \\\n",
       "R_ACC_X  -1.833834  -2.510490  -2.275131  -2.608556  ...  -4.893493   \n",
       "R_ACC_Y   0.088259   0.068646   0.353038  -0.254972  ...  10.296930   \n",
       "R_ACC_Z -11.130491 -12.542641 -11.826760 -12.209217  ... -21.898138   \n",
       "\n",
       "               251        252        253        254        255        256  \\\n",
       "R_ACC_X  -4.050126  -2.579136  -1.108146   0.088259   0.764915   0.794335   \n",
       "R_ACC_Y  12.101344  13.994018  16.180890  18.240276  20.074110  21.692199   \n",
       "R_ACC_Z -20.535020 -18.210856 -15.935725 -13.778273 -11.679661  -9.796793   \n",
       "\n",
       "               257        258        259  \n",
       "R_ACC_X   0.254972   0.666849   2.128032  \n",
       "R_ACC_Y  22.829765  24.330175  24.369401  \n",
       "R_ACC_Z  -9.228011 -10.591128  -8.610195  \n",
       "\n",
       "[3 rows x 131 columns]"
      ]
     },
     "execution_count": 104,
     "metadata": {},
     "output_type": "execute_result"
    }
   ],
   "source": [
    "inputs_acc[0]"
   ]
  },
  {
   "cell_type": "code",
   "execution_count": 98,
   "id": "eba351ff",
   "metadata": {},
   "outputs": [
    {
     "data": {
      "text/html": [
       "<div>\n",
       "<style scoped>\n",
       "    .dataframe tbody tr th:only-of-type {\n",
       "        vertical-align: middle;\n",
       "    }\n",
       "\n",
       "    .dataframe tbody tr th {\n",
       "        vertical-align: top;\n",
       "    }\n",
       "\n",
       "    .dataframe thead th {\n",
       "        text-align: right;\n",
       "    }\n",
       "</style>\n",
       "<table border=\"1\" class=\"dataframe\">\n",
       "  <thead>\n",
       "    <tr style=\"text-align: right;\">\n",
       "      <th></th>\n",
       "      <th>R_ACC_X</th>\n",
       "      <th>R_ACC_Y</th>\n",
       "      <th>R_ACC_Z</th>\n",
       "    </tr>\n",
       "  </thead>\n",
       "  <tbody>\n",
       "    <tr>\n",
       "      <th>0</th>\n",
       "      <td>-2.226098</td>\n",
       "      <td>22.555180</td>\n",
       "      <td>-10.306737</td>\n",
       "    </tr>\n",
       "    <tr>\n",
       "      <th>1</th>\n",
       "      <td>-1.333698</td>\n",
       "      <td>22.829765</td>\n",
       "      <td>-10.934359</td>\n",
       "    </tr>\n",
       "    <tr>\n",
       "      <th>2</th>\n",
       "      <td>-0.657042</td>\n",
       "      <td>6.609648</td>\n",
       "      <td>-11.316816</td>\n",
       "    </tr>\n",
       "    <tr>\n",
       "      <th>3</th>\n",
       "      <td>-2.539909</td>\n",
       "      <td>-2.569329</td>\n",
       "      <td>-8.070832</td>\n",
       "    </tr>\n",
       "    <tr>\n",
       "      <th>4</th>\n",
       "      <td>-3.030239</td>\n",
       "      <td>-4.040319</td>\n",
       "      <td>-10.708807</td>\n",
       "    </tr>\n",
       "    <tr>\n",
       "      <th>...</th>\n",
       "      <td>...</td>\n",
       "      <td>...</td>\n",
       "      <td>...</td>\n",
       "    </tr>\n",
       "    <tr>\n",
       "      <th>126</th>\n",
       "      <td>0.764915</td>\n",
       "      <td>20.074110</td>\n",
       "      <td>-11.679661</td>\n",
       "    </tr>\n",
       "    <tr>\n",
       "      <th>127</th>\n",
       "      <td>0.794335</td>\n",
       "      <td>21.692199</td>\n",
       "      <td>-9.796793</td>\n",
       "    </tr>\n",
       "    <tr>\n",
       "      <th>128</th>\n",
       "      <td>0.254972</td>\n",
       "      <td>22.829765</td>\n",
       "      <td>-9.228011</td>\n",
       "    </tr>\n",
       "    <tr>\n",
       "      <th>129</th>\n",
       "      <td>0.666849</td>\n",
       "      <td>24.330175</td>\n",
       "      <td>-10.591128</td>\n",
       "    </tr>\n",
       "    <tr>\n",
       "      <th>130</th>\n",
       "      <td>2.128032</td>\n",
       "      <td>24.369401</td>\n",
       "      <td>-8.610195</td>\n",
       "    </tr>\n",
       "  </tbody>\n",
       "</table>\n",
       "<p>131 rows × 3 columns</p>\n",
       "</div>"
      ],
      "text/plain": [
       "      R_ACC_X    R_ACC_Y    R_ACC_Z\n",
       "0   -2.226098  22.555180 -10.306737\n",
       "1   -1.333698  22.829765 -10.934359\n",
       "2   -0.657042   6.609648 -11.316816\n",
       "3   -2.539909  -2.569329  -8.070832\n",
       "4   -3.030239  -4.040319 -10.708807\n",
       "..        ...        ...        ...\n",
       "126  0.764915  20.074110 -11.679661\n",
       "127  0.794335  21.692199  -9.796793\n",
       "128  0.254972  22.829765  -9.228011\n",
       "129  0.666849  24.330175 -10.591128\n",
       "130  2.128032  24.369401  -8.610195\n",
       "\n",
       "[131 rows x 3 columns]"
      ]
     },
     "execution_count": 98,
     "metadata": {},
     "output_type": "execute_result"
    }
   ],
   "source": [
    "np.transpose(inputs_acc[0]).reset_index(drop=True)"
   ]
  },
  {
   "cell_type": "code",
   "execution_count": 99,
   "id": "2a9a5a12",
   "metadata": {},
   "outputs": [
    {
     "data": {
      "text/plain": [
       "[<matplotlib.lines.Line2D at 0x20e22d31e08>,\n",
       " <matplotlib.lines.Line2D at 0x20e39958108>,\n",
       " <matplotlib.lines.Line2D at 0x20e399e7088>]"
      ]
     },
     "execution_count": 99,
     "metadata": {},
     "output_type": "execute_result"
    },
    {
     "data": {
      "image/png": "[encoded data removed]",
      "text/plain": [
       "<Figure size 432x288 with 1 Axes>"
      ]
     },
     "metadata": {
      "needs_background": "light"
     },
     "output_type": "display_data"
    }
   ],
   "source": [
    "plt.plot(np.transpose(inputs_acc[0]).reset_index(drop=True))"
   ]
  },
  {
   "cell_type": "code",
   "execution_count": 49,
   "id": "8325f4df",
   "metadata": {},
   "outputs": [
    {
     "ename": "NameError",
     "evalue": "name 'acc_norm' is not defined",
     "output_type": "error",
     "traceback": [
      "\u001b[1;31m---------------------------------------------------------------------------\u001b[0m",
      "\u001b[1;31mNameError\u001b[0m                                 Traceback (most recent call last)",
      "\u001b[1;32m~\\AppData\\Local\\Temp\\ipykernel_22316\\64544316.py\u001b[0m in \u001b[0;36m<module>\u001b[1;34m\u001b[0m\n\u001b[1;32m----> 1\u001b[1;33m \u001b[0mnp\u001b[0m\u001b[1;33m.\u001b[0m\u001b[0mtranspose\u001b[0m\u001b[1;33m(\u001b[0m\u001b[0mcv2\u001b[0m\u001b[1;33m.\u001b[0m\u001b[0mresize\u001b[0m\u001b[1;33m(\u001b[0m\u001b[0macc_norm\u001b[0m\u001b[1;33m[\u001b[0m\u001b[0mevent_hs\u001b[0m\u001b[1;33m[\u001b[0m\u001b[1;36m0\u001b[0m\u001b[1;33m]\u001b[0m\u001b[1;33m:\u001b[0m\u001b[0mevent_hs\u001b[0m\u001b[1;33m[\u001b[0m\u001b[1;36m1\u001b[0m\u001b[1;33m]\u001b[0m\u001b[1;33m]\u001b[0m\u001b[1;33m,\u001b[0m \u001b[0mdsize\u001b[0m\u001b[1;33m=\u001b[0m\u001b[1;33m(\u001b[0m\u001b[1;36m3\u001b[0m\u001b[1;33m,\u001b[0m \u001b[1;36m300\u001b[0m\u001b[1;33m)\u001b[0m\u001b[1;33m)\u001b[0m\u001b[1;33m)\u001b[0m\u001b[1;33m\u001b[0m\u001b[1;33m\u001b[0m\u001b[0m\n\u001b[0m",
      "\u001b[1;31mNameError\u001b[0m: name 'acc_norm' is not defined"
     ]
    }
   ],
   "source": [
    "np.transpose(cv2.resize(acc_norm[event_hs[0]:event_hs[1]], dsize=(3, 300)))"
   ]
  },
  {
   "cell_type": "code",
   "execution_count": 23,
   "id": "d641a71b",
   "metadata": {},
   "outputs": [
    {
     "ename": "AttributeError",
     "evalue": "'numpy.ndarray' object has no attribute 'ToTensor'",
     "output_type": "error",
     "traceback": [
      "\u001b[1;31m---------------------------------------------------------------------------\u001b[0m",
      "\u001b[1;31mAttributeError\u001b[0m                            Traceback (most recent call last)",
      "\u001b[1;32m~\\AppData\\Local\\Temp\\ipykernel_5748\\483884191.py\u001b[0m in \u001b[0;36m<module>\u001b[1;34m\u001b[0m\n\u001b[1;32m----> 1\u001b[1;33m \u001b[0minputs_acc\u001b[0m\u001b[1;33m[\u001b[0m\u001b[1;36m0\u001b[0m\u001b[1;33m]\u001b[0m\u001b[1;33m.\u001b[0m\u001b[0mToTensor\u001b[0m\u001b[1;33m(\u001b[0m\u001b[1;33m)\u001b[0m\u001b[1;33m\u001b[0m\u001b[1;33m\u001b[0m\u001b[0m\n\u001b[0m",
      "\u001b[1;31mAttributeError\u001b[0m: 'numpy.ndarray' object has no attribute 'ToTensor'"
     ]
    }
   ],
   "source": []
  },
  {
   "cell_type": "code",
   "execution_count": null,
   "id": "eead44bf",
   "metadata": {},
   "outputs": [],
   "source": []
  },
  {
   "cell_type": "code",
   "execution_count": null,
   "id": "86a92d71",
   "metadata": {},
   "outputs": [],
   "source": []
  },
  {
   "cell_type": "code",
   "execution_count": 28,
   "id": "101284f4",
   "metadata": {},
   "outputs": [],
   "source": [
    "\n",
    "import torch\n",
    "from torch.utils.data import Dataset, DataLoader, random_split\n",
    "import torch.nn as nn"
   ]
  },
  {
   "cell_type": "code",
   "execution_count": 128,
   "id": "4128b235",
   "metadata": {},
   "outputs": [],
   "source": [
    "input_size = 300\n",
    "hidden_size = 64\n",
    "num_layers = 1"
   ]
  },
  {
   "cell_type": "code",
   "execution_count": 215,
   "id": "5d016bfa",
   "metadata": {},
   "outputs": [],
   "source": [
    "device = torch.device('cuda:0' if torch.cuda.is_available else 'cpu')\n",
    "\n",
    "lstm_acc = nn.LSTM(input_size, hidden_size, num_layers, batch_first=True)\n",
    "lstm_gyr = nn.LSTM(input_size, hidden_size, num_layers, batch_first=True)\n",
    "lstm_acc_b = nn.LSTM(input_size, hidden_size, num_layers, batch_first=False)\n",
    "lstm_gyr_b = nn.LSTM(input_size, hidden_size, num_layers, batch_first=False)"
   ]
  },
  {
   "cell_type": "code",
   "execution_count": 282,
   "id": "dd7434ed",
   "metadata": {},
   "outputs": [],
   "source": [
    "acc = torch.rand(16, 3, 300)\n",
    "gyr = torch.rand(16, 3, 300)\n",
    "acc_b = torch.rand(3, 16, 300)\n",
    "gyr_b = torch.rand(3, 16, 300)"
   ]
  },
  {
   "cell_type": "code",
   "execution_count": 283,
   "id": "98cd96b2",
   "metadata": {},
   "outputs": [],
   "source": [
    "o_acc, (h_acc, _) = lstm_acc(acc)\n",
    "o_gyr, (h_gyr, _) = lstm_gyr(gyr)\n",
    "o_acc_b, (h_acc_b, _) = lstm_acc_b(acc_b)\n",
    "o_gyr_b, (h_gyr_b, _) = lstm_gyr_b(gyr_b)"
   ]
  },
  {
   "cell_type": "code",
   "execution_count": 292,
   "id": "cf0868be",
   "metadata": {},
   "outputs": [
    {
     "name": "stdout",
     "output_type": "stream",
     "text": [
      "torch.Size([16, 3, 64])\n",
      "torch.Size([16, 64, 1])\n"
     ]
    }
   ],
   "source": [
    "merged_state = torch.cat([s for s in h_acc], 1)\n",
    "merged_state = merged_state.squeeze(0).unsqueeze(2)\n",
    "print(o_acc.shape)\n",
    "print(merged_state.shape)"
   ]
  },
  {
   "cell_type": "code",
   "execution_count": 273,
   "id": "764b2176",
   "metadata": {},
   "outputs": [
    {
     "name": "stdout",
     "output_type": "stream",
     "text": [
      "torch.Size([16, 64])\n"
     ]
    }
   ],
   "source": [
    "merged_state_b = torch.cat([s for s in h_b], 1)\n",
    "print(merged_state_b.shape)"
   ]
  },
  {
   "cell_type": "code",
   "execution_count": 274,
   "id": "d241142e",
   "metadata": {},
   "outputs": [
    {
     "name": "stdout",
     "output_type": "stream",
     "text": [
      "torch.Size([16, 64, 1])\n"
     ]
    }
   ],
   "source": [
    "merged_state_b = merged_state_b.squeeze(0).unsqueeze(2)\n",
    "print(merged_state_b.shape)"
   ]
  },
  {
   "cell_type": "code",
   "execution_count": 235,
   "id": "0f6a94fc",
   "metadata": {},
   "outputs": [
    {
     "name": "stdout",
     "output_type": "stream",
     "text": [
      "torch.Size([16, 64])\n"
     ]
    }
   ],
   "source": [
    "merged_state = torch.cat([s for s in h], 1)\n",
    "print(merged_state.shape)"
   ]
  },
  {
   "cell_type": "code",
   "execution_count": 236,
   "id": "453f311f",
   "metadata": {},
   "outputs": [
    {
     "name": "stdout",
     "output_type": "stream",
     "text": [
      "torch.Size([16, 64, 1])\n"
     ]
    }
   ],
   "source": [
    "merged_state = merged_state.squeeze(0).unsqueeze(2)\n",
    "print(merged_state.shape)"
   ]
  },
  {
   "cell_type": "code",
   "execution_count": 222,
   "id": "87619f70",
   "metadata": {},
   "outputs": [
    {
     "data": {
      "text/plain": [
       "torch.Size([16, 3, 128])"
      ]
     },
     "execution_count": 222,
     "metadata": {},
     "output_type": "execute_result"
    }
   ],
   "source": [
    "o_concat.shape"
   ]
  },
  {
   "cell_type": "code",
   "execution_count": 293,
   "id": "bbd33bcc",
   "metadata": {},
   "outputs": [
    {
     "name": "stdout",
     "output_type": "stream",
     "text": [
      "torch.Size([16, 3, 128])\n",
      "torch.Size([16, 128, 1])\n"
     ]
    }
   ],
   "source": [
    "h_concat = torch.cat((h_acc.view(-1, 64), h_gyr.view(-1, 64)), dim=1)\n",
    "h_concat = h_concat.squeeze(0).unsqueeze(2)\n",
    "\n",
    "o_concat = torch.cat((o_acc, o_gyr), dim=2)\n",
    "print(o_concat.size())\n",
    "print(h_concat.size())"
   ]
  },
  {
   "cell_type": "code",
   "execution_count": 278,
   "id": "d0cbb80e",
   "metadata": {},
   "outputs": [
    {
     "data": {
      "text/plain": [
       "torch.Size([16, 3, 1])"
      ]
     },
     "execution_count": 278,
     "metadata": {},
     "output_type": "execute_result"
    }
   ],
   "source": [
    "weights = torch.bmm(o_concat, merged_state)\n",
    "weights = F.softmax(weights.squeeze(2), dim=1).unsqueeze(2)\n",
    "weights.shape"
   ]
  },
  {
   "cell_type": "code",
   "execution_count": 280,
   "id": "95b971d1",
   "metadata": {},
   "outputs": [
    {
     "data": {
      "text/plain": [
       "torch.Size([16, 64])"
      ]
     },
     "execution_count": 280,
     "metadata": {},
     "output_type": "execute_result"
    }
   ],
   "source": [
    "torch.bmm(torch.transpose(lstm_output, 1, 2), weights).squeeze(2).shape"
   ]
  },
  {
   "cell_type": "code",
   "execution_count": 268,
   "id": "a29d87fb",
   "metadata": {},
   "outputs": [
    {
     "data": {
      "text/plain": [
       "torch.Size([16, 3, 1])"
      ]
     },
     "execution_count": 268,
     "metadata": {},
     "output_type": "execute_result"
    }
   ],
   "source": [
    "import torch.nn.functional as F\n",
    "weights = F.softmax(weights.squeeze(2), dim=1).unsqueeze(2)\n",
    "weights.shape"
   ]
  },
  {
   "cell_type": "code",
   "execution_count": 269,
   "id": "6a80a9ae",
   "metadata": {},
   "outputs": [
    {
     "data": {
      "text/plain": [
       "torch.Size([16, 64])"
      ]
     },
     "execution_count": 269,
     "metadata": {},
     "output_type": "execute_result"
    }
   ],
   "source": [
    "torch.bmm(torch.transpose(lstm_output, 1, 2), weights).squeeze(2).shape"
   ]
  },
  {
   "cell_type": "code",
   "execution_count": 237,
   "id": "b134c207",
   "metadata": {},
   "outputs": [
    {
     "name": "stdout",
     "output_type": "stream",
     "text": [
      "torch.Size([16, 128])\n"
     ]
    },
    {
     "data": {
      "text/plain": [
       "torch.Size([16, 3, 128])"
      ]
     },
     "execution_count": 237,
     "metadata": {},
     "output_type": "execute_result"
    }
   ],
   "source": [
    "print(h_concat.size())\n",
    "o_concat.size()"
   ]
  },
  {
   "cell_type": "code",
   "execution_count": null,
   "id": "b476a0fe",
   "metadata": {},
   "outputs": [],
   "source": []
  },
  {
   "cell_type": "code",
   "execution_count": 181,
   "id": "f2f2a569",
   "metadata": {},
   "outputs": [],
   "source": [
    "o, (h, c) = lstm_acc(acc)\n",
    "o_b, (h_b, c_b) = lstm_acc_b(acc_b)"
   ]
  },
  {
   "cell_type": "code",
   "execution_count": 198,
   "id": "4a32a95e",
   "metadata": {},
   "outputs": [],
   "source": [
    "o_b, (h_b, c_b) = lstm_acc_b(acc_b)\n",
    "o_b2, (h_b2, c_b) = lstm_acc_b(acc_b)"
   ]
  },
  {
   "cell_type": "code",
   "execution_count": 200,
   "id": "f9216b6b",
   "metadata": {},
   "outputs": [
    {
     "data": {
      "text/plain": [
       "torch.Size([16, 128])"
      ]
     },
     "execution_count": 200,
     "metadata": {},
     "output_type": "execute_result"
    }
   ],
   "source": [
    "inputs_concat = torch.cat((h_b.view(-1, hidden_size), h_b2.view(-1, hidden_size)), dim=1)\n",
    "inputs_concat.shape"
   ]
  },
  {
   "cell_type": "code",
   "execution_count": 197,
   "id": "a772a2b2",
   "metadata": {},
   "outputs": [
    {
     "data": {
      "text/plain": [
       "torch.Size([16, 6, 64])"
      ]
     },
     "execution_count": 197,
     "metadata": {},
     "output_type": "execute_result"
    }
   ],
   "source": [
    "torch.cat((o_b, o_b2), dim=1).shape"
   ]
  },
  {
   "cell_type": "code",
   "execution_count": 177,
   "id": "7c9b7a58",
   "metadata": {
    "scrolled": true
   },
   "outputs": [
    {
     "data": {
      "text/plain": [
       "torch.Size([16, 3, 64])"
      ]
     },
     "execution_count": 177,
     "metadata": {},
     "output_type": "execute_result"
    }
   ],
   "source": [
    "lstm_output = o.permute(1, 0, 2)\n",
    "lstm_output.shape"
   ]
  },
  {
   "cell_type": "code",
   "execution_count": 182,
   "id": "e23e0a29",
   "metadata": {},
   "outputs": [
    {
     "data": {
      "text/plain": [
       "torch.Size([3, 16, 64])"
      ]
     },
     "execution_count": 182,
     "metadata": {},
     "output_type": "execute_result"
    }
   ],
   "source": [
    "lstm_output_b = o_b.permute(1, 0, 2)\n",
    "lstm_output_b.shape"
   ]
  },
  {
   "cell_type": "code",
   "execution_count": 183,
   "id": "051d2661",
   "metadata": {},
   "outputs": [
    {
     "data": {
      "text/plain": [
       "torch.Size([16, 3, 64])"
      ]
     },
     "execution_count": 183,
     "metadata": {},
     "output_type": "execute_result"
    }
   ],
   "source": [
    "o_b.shape"
   ]
  },
  {
   "cell_type": "code",
   "execution_count": 192,
   "id": "ddcb217a",
   "metadata": {},
   "outputs": [
    {
     "data": {
      "text/plain": [
       "tensor([[ 0.0672, -0.1405,  0.2171,  ..., -0.3264, -0.2252, -0.3084],\n",
       "        [ 0.0159, -0.1446,  0.0407,  ..., -0.2660, -0.1436, -0.3754],\n",
       "        [-0.0353, -0.1541,  0.1663,  ..., -0.2578, -0.1564, -0.2903],\n",
       "        ...,\n",
       "        [ 0.0835, -0.1752,  0.3282,  ..., -0.2973, -0.1964, -0.1967],\n",
       "        [ 0.0784, -0.1394,  0.1897,  ..., -0.3549, -0.1552, -0.5321],\n",
       "        [-0.0118, -0.1860,  0.2510,  ..., -0.3565, -0.2410, -0.2302]],\n",
       "       grad_fn=<CatBackward0>)"
      ]
     },
     "execution_count": 192,
     "metadata": {},
     "output_type": "execute_result"
    }
   ],
   "source": [
    "torch.cat([s for s in h], 1)"
   ]
  },
  {
   "cell_type": "code",
   "execution_count": 193,
   "id": "4e9bc9df",
   "metadata": {},
   "outputs": [
    {
     "data": {
      "text/plain": [
       "tensor([[-0.0646, -0.1905,  0.1258,  ..., -0.1582,  0.1055, -0.1914],\n",
       "        [-0.0287, -0.1310,  0.1638,  ...,  0.1235,  0.1156, -0.2167],\n",
       "        [-0.1622, -0.0952,  0.1103,  ...,  0.1855,  0.0767, -0.0975],\n",
       "        ...,\n",
       "        [-0.2571, -0.1738,  0.0942,  ..., -0.1008,  0.0236, -0.1102],\n",
       "        [-0.0966, -0.1443,  0.1295,  ...,  0.2624,  0.0552, -0.0401],\n",
       "        [-0.3418, -0.1613,  0.0885,  ...,  0.2009,  0.0649, -0.0290]],\n",
       "       grad_fn=<CatBackward0>)"
      ]
     },
     "execution_count": 193,
     "metadata": {},
     "output_type": "execute_result"
    }
   ],
   "source": [
    "torch.cat([s for s in h_b], 1)"
   ]
  },
  {
   "cell_type": "code",
   "execution_count": 184,
   "id": "75c4b4c0",
   "metadata": {},
   "outputs": [
    {
     "name": "stdout",
     "output_type": "stream",
     "text": [
      "torch.Size([16, 64, 1])\n"
     ]
    }
   ],
   "source": [
    "merged_state = torch.cat([s for s in h], 1)\n",
    "merged_state = merged_state.squeeze(0).unsqueeze(2)\n",
    "print(merged_state.shape)"
   ]
  },
  {
   "cell_type": "code",
   "execution_count": 185,
   "id": "fa7279b3",
   "metadata": {},
   "outputs": [
    {
     "name": "stdout",
     "output_type": "stream",
     "text": [
      "torch.Size([16, 64, 1])\n"
     ]
    }
   ],
   "source": [
    "merged_state_b = torch.cat([s for s in h_b], 1)\n",
    "merged_state_b = merged_state_b.squeeze(0).unsqueeze(2)\n",
    "print(merged_state_b.shape)"
   ]
  },
  {
   "cell_type": "code",
   "execution_count": 187,
   "id": "d0cfd4c2",
   "metadata": {},
   "outputs": [
    {
     "ename": "RuntimeError",
     "evalue": "Expected size for first two dimensions of batch2 tensor to be: [3, 64] but got: [16, 64].",
     "output_type": "error",
     "traceback": [
      "\u001b[1;31m---------------------------------------------------------------------------\u001b[0m",
      "\u001b[1;31mRuntimeError\u001b[0m                              Traceback (most recent call last)",
      "\u001b[1;32m~\\AppData\\Local\\Temp\\ipykernel_5748\\3767547513.py\u001b[0m in \u001b[0;36m<module>\u001b[1;34m\u001b[0m\n\u001b[1;32m----> 1\u001b[1;33m \u001b[0mweights\u001b[0m \u001b[1;33m=\u001b[0m \u001b[0mtorch\u001b[0m\u001b[1;33m.\u001b[0m\u001b[0mbmm\u001b[0m\u001b[1;33m(\u001b[0m\u001b[0mlstm_output_b\u001b[0m\u001b[1;33m,\u001b[0m \u001b[0mmerged_state_b\u001b[0m\u001b[1;33m)\u001b[0m\u001b[1;33m\u001b[0m\u001b[1;33m\u001b[0m\u001b[0m\n\u001b[0m",
      "\u001b[1;31mRuntimeError\u001b[0m: Expected size for first two dimensions of batch2 tensor to be: [3, 64] but got: [16, 64]."
     ]
    }
   ],
   "source": [
    "weights = torch.bmm(lstm_output_b, merged_state_b)"
   ]
  },
  {
   "cell_type": "code",
   "execution_count": null,
   "id": "1b6bb5cf",
   "metadata": {},
   "outputs": [],
   "source": []
  },
  {
   "cell_type": "code",
   "execution_count": 156,
   "id": "928a2677",
   "metadata": {},
   "outputs": [
    {
     "ename": "IndexError",
     "evalue": "Dimension out of range (expected to be in range of [-2, 1], but got 2)",
     "output_type": "error",
     "traceback": [
      "\u001b[1;31m---------------------------------------------------------------------------\u001b[0m",
      "\u001b[1;31mIndexError\u001b[0m                                Traceback (most recent call last)",
      "\u001b[1;32m~\\AppData\\Local\\Temp\\ipykernel_5748\\461048476.py\u001b[0m in \u001b[0;36m<module>\u001b[1;34m\u001b[0m\n\u001b[1;32m----> 1\u001b[1;33m \u001b[0mmerged_state\u001b[0m \u001b[1;33m=\u001b[0m \u001b[0mmerged_state\u001b[0m\u001b[1;33m.\u001b[0m\u001b[0msqueeze\u001b[0m\u001b[1;33m(\u001b[0m\u001b[1;36m0\u001b[0m\u001b[1;33m)\u001b[0m\u001b[1;33m.\u001b[0m\u001b[0munsqueeze\u001b[0m\u001b[1;33m(\u001b[0m\u001b[1;36m2\u001b[0m\u001b[1;33m)\u001b[0m\u001b[1;33m\u001b[0m\u001b[1;33m\u001b[0m\u001b[0m\n\u001b[0m",
      "\u001b[1;31mIndexError\u001b[0m: Dimension out of range (expected to be in range of [-2, 1], but got 2)"
     ]
    }
   ],
   "source": [
    "merged_state = merged_state.squeeze(0).unsqueeze(2)"
   ]
  },
  {
   "cell_type": "code",
   "execution_count": 160,
   "id": "6d0f17d2",
   "metadata": {},
   "outputs": [],
   "source": [
    "dfd = merged_state.squeeze(0)"
   ]
  },
  {
   "cell_type": "code",
   "execution_count": 110,
   "id": "cd4d48d6",
   "metadata": {
    "scrolled": true
   },
   "outputs": [
    {
     "data": {
      "text/plain": [
       "tensor([[[ 0.0467,  0.2502, -0.3966, -0.4063,  0.0869,  0.3269, -0.1805,\n",
       "           0.0068, -0.0065,  0.0809, -0.2384,  0.2365, -0.1656, -0.0945,\n",
       "           0.3274, -0.2514,  0.5339,  0.0490,  0.3319,  0.8629, -0.3669,\n",
       "           0.2195,  0.1291,  0.3327, -0.2361,  0.0111, -0.3566, -0.3012,\n",
       "           0.0670, -0.0677,  0.0730, -0.6965, -0.0953,  0.2998,  0.4359,\n",
       "           0.0757, -0.0779, -0.1348,  0.1259,  0.6244,  0.2163, -0.0141,\n",
       "          -0.3455,  0.0408,  0.2657, -0.1382, -0.0076,  0.4894,  0.4581,\n",
       "          -0.3611,  0.1634, -0.0131,  0.0924,  0.2453, -0.1420,  0.3861,\n",
       "          -0.4088,  0.8190,  0.4359,  0.0234, -0.2285,  0.1359, -0.1687,\n",
       "           0.3692]]], grad_fn=<StackBackward0>)"
      ]
     },
     "execution_count": 110,
     "metadata": {},
     "output_type": "execute_result"
    }
   ],
   "source": [
    "c_n"
   ]
  },
  {
   "cell_type": "code",
   "execution_count": 87,
   "id": "d4df4fc4",
   "metadata": {},
   "outputs": [
    {
     "name": "stdout",
     "output_type": "stream",
     "text": [
      "torch.Size([300, 64])\n",
      "torch.Size([300])\n"
     ]
    }
   ],
   "source": [
    "print(o.shape)\n",
    "print(o[:,-1].shape)"
   ]
  },
  {
   "cell_type": "code",
   "execution_count": 93,
   "id": "f7ddeb23",
   "metadata": {},
   "outputs": [
    {
     "name": "stdout",
     "output_type": "stream",
     "text": [
      "[2, 3]\n",
      "[2, 7]\n",
      "[2, 5]\n",
      "[4, 3]\n",
      "[4, 7]\n",
      "[4, 5]\n"
     ]
    }
   ],
   "source": [
    "sentences = [\"i like dog\", \"i love coffee\", \"i hate milk\", \"you like cat\", \"you love milk\", \"you hate coffee\"]\n",
    "word_list = list(set(\" \".join(sentences).split()))\n",
    "word_dict = {w: i for i, w in enumerate(word_list)}\n",
    "for sen in sentences:\n",
    "    word = sen.split()\n",
    "    input = [word_dict[n] for n in word[:-1]]\n",
    "    print(input)\n",
    "\n"
   ]
  }
 ],
 "metadata": {
  "kernelspec": {
   "display_name": "gait",
   "language": "python",
   "name": "gait"
  },
  "language_info": {
   "codemirror_mode": {
    "name": "ipython",
    "version": 3
   },
   "file_extension": ".py",
   "mimetype": "text/x-python",
   "name": "python",
   "nbconvert_exporter": "python",
   "pygments_lexer": "ipython3",
   "version": "3.7.11"
  }
 },
 "nbformat": 4,
 "nbformat_minor": 5
}
